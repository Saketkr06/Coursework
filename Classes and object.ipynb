{
 "cells": [
  {
   "cell_type": "code",
   "execution_count": 1,
   "id": "49496d5a",
   "metadata": {},
   "outputs": [],
   "source": [
    "#class is a blue print or a code template for object creation.\n",
    "#object: is an instance of a class\n",
    "#attributes is properties associated with object/instance variable\n",
    "#functionality of object is methods/function()"
   ]
  },
  {
   "cell_type": "code",
   "execution_count": 2,
   "id": "d1783c42",
   "metadata": {},
   "outputs": [],
   "source": [
    "class Emp:\n",
    "    pass"
   ]
  },
  {
   "cell_type": "code",
   "execution_count": 3,
   "id": "3b7726ed",
   "metadata": {},
   "outputs": [
    {
     "name": "stdout",
     "output_type": "stream",
     "text": [
      "<class '__main__.Emp'>\n"
     ]
    }
   ],
   "source": [
    "e=Emp()#creating abject name of class\n",
    "print(type(e))"
   ]
  },
  {
   "cell_type": "code",
   "execution_count": 4,
   "id": "3315b617",
   "metadata": {},
   "outputs": [
    {
     "data": {
      "text/plain": [
       "2163517063232"
      ]
     },
     "execution_count": 4,
     "metadata": {},
     "output_type": "execute_result"
    }
   ],
   "source": [
    "id(e)"
   ]
  },
  {
   "cell_type": "code",
   "execution_count": 9,
   "id": "59a5ce7f",
   "metadata": {},
   "outputs": [],
   "source": [
    "class Robot:\n",
    "    def introduce_self(self):\n",
    "        print(\"My name is \" + self.name)"
   ]
  },
  {
   "cell_type": "code",
   "execution_count": 10,
   "id": "e60f21b8",
   "metadata": {},
   "outputs": [],
   "source": [
    "r1=Robot()"
   ]
  },
  {
   "cell_type": "code",
   "execution_count": 11,
   "id": "2206d7bf",
   "metadata": {},
   "outputs": [],
   "source": [
    "r1.name=\"abc\""
   ]
  },
  {
   "cell_type": "code",
   "execution_count": 12,
   "id": "0c567397",
   "metadata": {},
   "outputs": [
    {
     "name": "stdout",
     "output_type": "stream",
     "text": [
      "My name is abc\n"
     ]
    }
   ],
   "source": [
    "r1.introduce_self()"
   ]
  },
  {
   "cell_type": "code",
   "execution_count": 13,
   "id": "889fc342",
   "metadata": {},
   "outputs": [],
   "source": [
    "r2=Robot()"
   ]
  },
  {
   "cell_type": "code",
   "execution_count": 14,
   "id": "4876d24d",
   "metadata": {},
   "outputs": [
    {
     "data": {
      "text/plain": [
       "<__main__.Robot at 0x1f7bbde9bb0>"
      ]
     },
     "execution_count": 14,
     "metadata": {},
     "output_type": "execute_result"
    }
   ],
   "source": [
    "r2"
   ]
  },
  {
   "cell_type": "code",
   "execution_count": 15,
   "id": "4bdebcbb",
   "metadata": {},
   "outputs": [],
   "source": [
    "r2.name='xyz'"
   ]
  },
  {
   "cell_type": "code",
   "execution_count": 16,
   "id": "983e34b0",
   "metadata": {},
   "outputs": [
    {
     "data": {
      "text/plain": [
       "<__main__.Robot at 0x1f7bbde9bb0>"
      ]
     },
     "execution_count": 16,
     "metadata": {},
     "output_type": "execute_result"
    }
   ],
   "source": [
    "r2"
   ]
  },
  {
   "cell_type": "code",
   "execution_count": 17,
   "id": "48dfeda3",
   "metadata": {},
   "outputs": [
    {
     "name": "stdout",
     "output_type": "stream",
     "text": [
      "My name is xyz\n"
     ]
    }
   ],
   "source": [
    "r2.introduce_self()"
   ]
  },
  {
   "cell_type": "code",
   "execution_count": 23,
   "id": "ae67bc1d",
   "metadata": {},
   "outputs": [],
   "source": [
    "class Robot:\n",
    "    def __init__(self,name,color,weight):#special methods\n",
    "        self.name=name\n",
    "        self.color=color\n",
    "        self.weight=weight\n",
    "    \n",
    "    def introduce_self(self):\n",
    "        print(\"My name is \" + self.name)\n",
    "    \n",
    "    "
   ]
  },
  {
   "cell_type": "code",
   "execution_count": 24,
   "id": "a261ec59",
   "metadata": {},
   "outputs": [],
   "source": [
    "r1=Robot(\"abc\",\"red\",30)"
   ]
  },
  {
   "cell_type": "code",
   "execution_count": 25,
   "id": "fb2f459f",
   "metadata": {},
   "outputs": [],
   "source": [
    "r2=Robot(\"xyz\",'blue',40)"
   ]
  },
  {
   "cell_type": "code",
   "execution_count": 26,
   "id": "520bed17",
   "metadata": {},
   "outputs": [
    {
     "name": "stdout",
     "output_type": "stream",
     "text": [
      "My name is abc\n"
     ]
    }
   ],
   "source": [
    "r1.introduce_self()"
   ]
  },
  {
   "cell_type": "code",
   "execution_count": 27,
   "id": "1f899e09",
   "metadata": {},
   "outputs": [
    {
     "name": "stdout",
     "output_type": "stream",
     "text": [
      "My name is xyz\n"
     ]
    }
   ],
   "source": [
    "r2.introduce_self()"
   ]
  },
  {
   "cell_type": "code",
   "execution_count": 28,
   "id": "f1a63c77",
   "metadata": {},
   "outputs": [
    {
     "data": {
      "text/plain": [
       "'red'"
      ]
     },
     "execution_count": 28,
     "metadata": {},
     "output_type": "execute_result"
    }
   ],
   "source": [
    "r1.color"
   ]
  },
  {
   "cell_type": "code",
   "execution_count": 29,
   "id": "b032982a",
   "metadata": {},
   "outputs": [
    {
     "data": {
      "text/plain": [
       "30"
      ]
     },
     "execution_count": 29,
     "metadata": {},
     "output_type": "execute_result"
    }
   ],
   "source": [
    "r1.weight"
   ]
  },
  {
   "cell_type": "code",
   "execution_count": 30,
   "id": "fe37d846",
   "metadata": {},
   "outputs": [],
   "source": [
    "#methods use with braces and properties is not with braces"
   ]
  },
  {
   "cell_type": "code",
   "execution_count": 31,
   "id": "8564d600",
   "metadata": {},
   "outputs": [],
   "source": [
    "class Person:\n",
    "    def __init__(self,name,gender,profession):\n",
    "        self.name=name\n",
    "        self.gender=gender\n",
    "        self.profession=profession\n",
    "    def show(self):\n",
    "        print(\"name\",self.name,'gender',self.gender,\"Profession\",self.profession)\n",
    "    def work(self):\n",
    "        print(self.name,\"working as a\", self.profession)"
   ]
  },
  {
   "cell_type": "code",
   "execution_count": 32,
   "id": "b75197f3",
   "metadata": {},
   "outputs": [],
   "source": [
    "o1=Person(\"saket\",\"Male\",\"Engineer\")"
   ]
  },
  {
   "cell_type": "code",
   "execution_count": 33,
   "id": "a669dc6b",
   "metadata": {},
   "outputs": [
    {
     "name": "stdout",
     "output_type": "stream",
     "text": [
      "name saket gender Male Profession Engineer\n"
     ]
    }
   ],
   "source": [
    "o1.show()"
   ]
  },
  {
   "cell_type": "code",
   "execution_count": 34,
   "id": "e5af520e",
   "metadata": {},
   "outputs": [
    {
     "data": {
      "text/plain": [
       "'Engineer'"
      ]
     },
     "execution_count": 34,
     "metadata": {},
     "output_type": "execute_result"
    }
   ],
   "source": [
    "o1.profession"
   ]
  },
  {
   "cell_type": "code",
   "execution_count": 35,
   "id": "fc6ebf70",
   "metadata": {},
   "outputs": [
    {
     "name": "stdout",
     "output_type": "stream",
     "text": [
      "saket working as a Engineer\n"
     ]
    }
   ],
   "source": [
    "o1.work()"
   ]
  },
  {
   "cell_type": "code",
   "execution_count": 36,
   "id": "1163fd6d",
   "metadata": {},
   "outputs": [],
   "source": [
    "class Emp:\n",
    "    def __init__(self):\n",
    "        print(id(self))\n",
    "        self.age=25\n",
    "        self.name=\"saket\"\n",
    "        self.salary=30000"
   ]
  },
  {
   "cell_type": "code",
   "execution_count": 37,
   "id": "9a2e0a4d",
   "metadata": {},
   "outputs": [
    {
     "name": "stdout",
     "output_type": "stream",
     "text": [
      "2163554460144\n"
     ]
    }
   ],
   "source": [
    "e1=Emp()"
   ]
  },
  {
   "cell_type": "code",
   "execution_count": 38,
   "id": "3a5b572b",
   "metadata": {},
   "outputs": [
    {
     "data": {
      "text/plain": [
       "25"
      ]
     },
     "execution_count": 38,
     "metadata": {},
     "output_type": "execute_result"
    }
   ],
   "source": [
    "e1.age"
   ]
  },
  {
   "cell_type": "code",
   "execution_count": 39,
   "id": "9ffbdb5d",
   "metadata": {},
   "outputs": [],
   "source": [
    "e1.weight=34"
   ]
  },
  {
   "cell_type": "code",
   "execution_count": 40,
   "id": "22103c11",
   "metadata": {},
   "outputs": [
    {
     "data": {
      "text/plain": [
       "34"
      ]
     },
     "execution_count": 40,
     "metadata": {},
     "output_type": "execute_result"
    }
   ],
   "source": [
    "e1.weight"
   ]
  },
  {
   "cell_type": "code",
   "execution_count": 41,
   "id": "d29cbe00",
   "metadata": {},
   "outputs": [],
   "source": [
    "class Circle:\n",
    "    def __init__(self,r,pi):\n",
    "        self.r=r\n",
    "        self.pi=pi\n",
    "    def area(self):\n",
    "        print(\"area of circle is \",self.pi*self.r*self.r)\n",
    "    def circumference(self):\n",
    "        print(\"circumference of circle is \",2*self.pi*self.r)"
   ]
  },
  {
   "cell_type": "code",
   "execution_count": 43,
   "id": "64011b36",
   "metadata": {},
   "outputs": [],
   "source": [
    "a1=Circle(4,3.14)"
   ]
  },
  {
   "cell_type": "code",
   "execution_count": 44,
   "id": "603be19d",
   "metadata": {},
   "outputs": [
    {
     "name": "stdout",
     "output_type": "stream",
     "text": [
      "area of circle is  50.24\n"
     ]
    }
   ],
   "source": [
    "a1.area()"
   ]
  },
  {
   "cell_type": "code",
   "execution_count": 45,
   "id": "91b3270d",
   "metadata": {},
   "outputs": [
    {
     "name": "stdout",
     "output_type": "stream",
     "text": [
      "circumference of circle is  25.12\n"
     ]
    }
   ],
   "source": [
    "a1.circumference()"
   ]
  },
  {
   "cell_type": "code",
   "execution_count": 70,
   "id": "b37c17c0",
   "metadata": {},
   "outputs": [],
   "source": [
    "class BankAccount:\n",
    "    def __init__(self,an,name,balance):\n",
    "        self.an=an\n",
    "        self.name=name\n",
    "        self.balance=balance\n",
    "    def deposit(self,amt):\n",
    "        self.amt=amt\n",
    "    def withdraw(self,drawn):\n",
    "        self.drawn=drawn\n",
    "        \n",
    "    def display(self):\n",
    "        print(self.balance+self.amt-self.drawn)"
   ]
  },
  {
   "cell_type": "code",
   "execution_count": 71,
   "id": "e83ffe12",
   "metadata": {},
   "outputs": [],
   "source": [
    "w=BankAccount(101123,\"saket\",2500)"
   ]
  },
  {
   "cell_type": "code",
   "execution_count": 72,
   "id": "9c902075",
   "metadata": {},
   "outputs": [],
   "source": [
    "w.deposit(1000)"
   ]
  },
  {
   "cell_type": "code",
   "execution_count": 73,
   "id": "0bebe45c",
   "metadata": {},
   "outputs": [],
   "source": [
    "w.withdraw(300)"
   ]
  },
  {
   "cell_type": "code",
   "execution_count": 74,
   "id": "5d5ed617",
   "metadata": {},
   "outputs": [
    {
     "name": "stdout",
     "output_type": "stream",
     "text": [
      "3200\n"
     ]
    }
   ],
   "source": [
    "w.display()"
   ]
  },
  {
   "cell_type": "code",
   "execution_count": 75,
   "id": "1b08c3aa",
   "metadata": {},
   "outputs": [],
   "source": [
    "class BankAccount:\n",
    "    def __init__(self,name,amount,interest_rate):\n",
    "        self.name=name\n",
    "        self.amount=amount\n",
    "        self.interest_rate=interest_rate\n",
    "    def apply_interest(self):\n",
    "        self.amount=self.amount+self.amount*self.interest_rate/100\n",
    "    def display_amt(self):\n",
    "        print(\"Your balance is\",self.amount)"
   ]
  },
  {
   "cell_type": "code",
   "execution_count": 76,
   "id": "2e12a039",
   "metadata": {},
   "outputs": [],
   "source": [
    "a=BankAccount(\"Juan\",1000,3)"
   ]
  },
  {
   "cell_type": "code",
   "execution_count": 77,
   "id": "6e329ef6",
   "metadata": {},
   "outputs": [],
   "source": [
    "a.apply_interest()"
   ]
  },
  {
   "cell_type": "code",
   "execution_count": 78,
   "id": "9edcc4ab",
   "metadata": {},
   "outputs": [
    {
     "name": "stdout",
     "output_type": "stream",
     "text": [
      "Your balance is 1030.0\n"
     ]
    }
   ],
   "source": [
    "a.display_amt()"
   ]
  },
  {
   "cell_type": "code",
   "execution_count": 79,
   "id": "c5960263",
   "metadata": {},
   "outputs": [],
   "source": [
    "a=BankAccount(\"Juan\",1000,2)"
   ]
  },
  {
   "cell_type": "code",
   "execution_count": 80,
   "id": "2c5bc429",
   "metadata": {},
   "outputs": [],
   "source": [
    "a.apply_interest()"
   ]
  },
  {
   "cell_type": "code",
   "execution_count": 82,
   "id": "fa1da34b",
   "metadata": {},
   "outputs": [
    {
     "name": "stdout",
     "output_type": "stream",
     "text": [
      "Your balance is 1020.0\n"
     ]
    }
   ],
   "source": [
    "a.display_amt()"
   ]
  },
  {
   "cell_type": "code",
   "execution_count": 92,
   "id": "30dfa881",
   "metadata": {},
   "outputs": [],
   "source": [
    "class Item:\n",
    "    def __init__(self,name,price):\n",
    "        self.name=name\n",
    "        self.price=round(price,2)\n",
    "    def __str__(self):\n",
    "        return f\"item name {self.name}, its price is {self.price}\""
   ]
  },
  {
   "cell_type": "code",
   "execution_count": 95,
   "id": "5e3ffd3a",
   "metadata": {},
   "outputs": [],
   "source": [
    "b=Item(\"Soap\",19.4578)"
   ]
  },
  {
   "cell_type": "code",
   "execution_count": 96,
   "id": "a52c458c",
   "metadata": {},
   "outputs": [
    {
     "name": "stdout",
     "output_type": "stream",
     "text": [
      "item name Soap, its price is 19.46\n"
     ]
    }
   ],
   "source": [
    "print(b)"
   ]
  },
  {
   "cell_type": "code",
   "execution_count": 112,
   "id": "3c29aaea",
   "metadata": {},
   "outputs": [],
   "source": [
    "class Item:\n",
    "    def __init__(self,name,price):\n",
    "        self.name=name\n",
    "        self.price=price\n",
    "    def __str__(self):\n",
    "        return f\"{self.name},{self.price}\"\n",
    "class ShoppingCart:\n",
    "    def __init__(self):\n",
    "        self.items=[]\n",
    "    def add(self,name,price):\n",
    "        self.items.append(Item(name,price))\n",
    "    def total(self):\n",
    "        total_price=0\n",
    "        for item in self.items:\n",
    "            total_price +=item.price\n",
    "        return total_price\n",
    "    def remove(self,name):\n",
    "        self.items=[item for item in self.items if item.name != name]\n",
    "    def __str__(self):\n",
    "        return \" \\n\".join([str(item) for item in self.items])\n",
    "        \n",
    "    \n",
    "    \n",
    "    "
   ]
  },
  {
   "cell_type": "code",
   "execution_count": 113,
   "id": "fd14059b",
   "metadata": {},
   "outputs": [],
   "source": [
    "c=ShoppingCart()"
   ]
  },
  {
   "cell_type": "code",
   "execution_count": 114,
   "id": "8213dc55",
   "metadata": {},
   "outputs": [],
   "source": [
    "c.add(\"soap\",20)"
   ]
  },
  {
   "cell_type": "code",
   "execution_count": 115,
   "id": "e55e306e",
   "metadata": {},
   "outputs": [],
   "source": [
    "c.add(\"laptop\",2012)"
   ]
  },
  {
   "cell_type": "code",
   "execution_count": 116,
   "id": "00575c01",
   "metadata": {},
   "outputs": [],
   "source": [
    "c.add(\"keyboard\",560)"
   ]
  },
  {
   "cell_type": "code",
   "execution_count": 117,
   "id": "bff0b4cc",
   "metadata": {},
   "outputs": [
    {
     "name": "stdout",
     "output_type": "stream",
     "text": [
      "2592\n"
     ]
    }
   ],
   "source": [
    "print(c.total())"
   ]
  },
  {
   "cell_type": "code",
   "execution_count": 118,
   "id": "7f9323f0",
   "metadata": {},
   "outputs": [],
   "source": [
    "c.remove(\"soap\")"
   ]
  },
  {
   "cell_type": "code",
   "execution_count": 119,
   "id": "87a0cc9f",
   "metadata": {},
   "outputs": [
    {
     "name": "stdout",
     "output_type": "stream",
     "text": [
      "2572\n"
     ]
    }
   ],
   "source": [
    "print(c.total())"
   ]
  },
  {
   "cell_type": "code",
   "execution_count": 120,
   "id": "c84cba73",
   "metadata": {},
   "outputs": [
    {
     "name": "stdout",
     "output_type": "stream",
     "text": [
      "\n"
     ]
    }
   ],
   "source": [
    "print(ShoppingCart())"
   ]
  },
  {
   "cell_type": "code",
   "execution_count": 121,
   "id": "6f8cf574",
   "metadata": {},
   "outputs": [
    {
     "name": "stdout",
     "output_type": "stream",
     "text": [
      "laptop,2012 \n",
      "keyboard,560\n"
     ]
    }
   ],
   "source": [
    "print(c)"
   ]
  },
  {
   "cell_type": "code",
   "execution_count": 124,
   "id": "4791aeac",
   "metadata": {},
   "outputs": [],
   "source": [
    "class RestaurantCheck:\n",
    "    def __init__(self,check_no,sales_tax_percent,subtotal,table_no,server_name):\n",
    "        self.check_no=check_no\n",
    "        self.sales_tax_percent=sales_tax_percent\n",
    "        self.subtotal=subtotal\n",
    "        self.table_no=table_no\n",
    "        self.server_name=server_name\n",
    "    def calculate_total(self):\n",
    "        total=0\n",
    "        total =total+self.subtotal+self.subtotal*self.sales_tax_percent/100\n",
    "    def __str__(self):\n",
    "        return f\"Check number :{self.check_no}\\n Sales tax :{self.sales_tax_percent}\\n subTotal :{self.subtotal}\\n total :{self.total}\\n Table no :{self.table_no}\\n server name :{self.server_name}\"\n",
    "        "
   ]
  },
  {
   "cell_type": "code",
   "execution_count": 128,
   "id": "a18b9ee2",
   "metadata": {},
   "outputs": [],
   "source": [
    "e=RestaurantCheck(443,6,23.14,14,\"sonic\")"
   ]
  },
  {
   "cell_type": "code",
   "execution_count": 132,
   "id": "96a0a754",
   "metadata": {},
   "outputs": [],
   "source": [
    "e.calculate_total()"
   ]
  },
  {
   "cell_type": "code",
   "execution_count": 159,
   "id": "3244fb6d",
   "metadata": {},
   "outputs": [],
   "source": [
    "class Ticket:\n",
    "    def __init__(self,cost,time):\n",
    "        self.cost=cost\n",
    "        self.time=time\n",
    "    def __str__(self):\n",
    "        return f\"{self.cost},{self.time}\"\n",
    "    def is_evening_time(self):\n",
    "        self.time=float(self.time)\n",
    "        if self.time>6 or self.time<11.59:\n",
    "            return \"True\"\n",
    "        else:\n",
    "            return \"False\"\n",
    "    def bulk_discount(self,n):\n",
    "        self.n=n\n",
    "        if 5<=n<=9:\n",
    "            discount=10\n",
    "            self.cost=self.n*self.cost-self.n*self.cost*discount/100\n",
    "        elif n>=10:\n",
    "            discount=20\n",
    "            self.cost=self.n*self.cost-self.n*self.cost*discount/100\n",
    "            "
   ]
  },
  {
   "cell_type": "code",
   "execution_count": 160,
   "id": "41ddc09f",
   "metadata": {},
   "outputs": [],
   "source": [
    "f=Ticket(20,5.56)"
   ]
  },
  {
   "cell_type": "code",
   "execution_count": 161,
   "id": "d3d5ab31",
   "metadata": {},
   "outputs": [
    {
     "data": {
      "text/plain": [
       "'True'"
      ]
     },
     "execution_count": 161,
     "metadata": {},
     "output_type": "execute_result"
    }
   ],
   "source": [
    "f.is_evening_time()"
   ]
  },
  {
   "cell_type": "code",
   "execution_count": 162,
   "id": "fe0dec23",
   "metadata": {},
   "outputs": [],
   "source": [
    "f.bulk_discount(8)"
   ]
  },
  {
   "cell_type": "code",
   "execution_count": 163,
   "id": "53269193",
   "metadata": {},
   "outputs": [
    {
     "name": "stdout",
     "output_type": "stream",
     "text": [
      "144.0,5.56\n"
     ]
    }
   ],
   "source": [
    "print(f)"
   ]
  },
  {
   "cell_type": "code",
   "execution_count": null,
   "id": "37ca9ba5",
   "metadata": {},
   "outputs": [],
   "source": []
  },
  {
   "cell_type": "code",
   "execution_count": null,
   "id": "981c8268",
   "metadata": {},
   "outputs": [],
   "source": []
  },
  {
   "cell_type": "code",
   "execution_count": null,
   "id": "8cab581b",
   "metadata": {},
   "outputs": [],
   "source": []
  }
 ],
 "metadata": {
  "kernelspec": {
   "display_name": "Python 3 (ipykernel)",
   "language": "python",
   "name": "python3"
  },
  "language_info": {
   "codemirror_mode": {
    "name": "ipython",
    "version": 3
   },
   "file_extension": ".py",
   "mimetype": "text/x-python",
   "name": "python",
   "nbconvert_exporter": "python",
   "pygments_lexer": "ipython3",
   "version": "3.9.12"
  }
 },
 "nbformat": 4,
 "nbformat_minor": 5
}
