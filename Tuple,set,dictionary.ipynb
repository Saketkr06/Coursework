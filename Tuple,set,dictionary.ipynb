{
 "cells": [
  {
   "cell_type": "code",
   "execution_count": 1,
   "id": "43877a38",
   "metadata": {},
   "outputs": [],
   "source": [
    "t=(1,2,3,4,5)"
   ]
  },
  {
   "cell_type": "code",
   "execution_count": 2,
   "id": "d5532fa7",
   "metadata": {},
   "outputs": [
    {
     "data": {
      "text/plain": [
       "tuple"
      ]
     },
     "execution_count": 2,
     "metadata": {},
     "output_type": "execute_result"
    }
   ],
   "source": [
    "type(t)"
   ]
  },
  {
   "cell_type": "code",
   "execution_count": 3,
   "id": "a96a3f5c",
   "metadata": {},
   "outputs": [],
   "source": [
    "t1=(\"saket\",1,345,45.0,4+7j)"
   ]
  },
  {
   "cell_type": "code",
   "execution_count": 4,
   "id": "eecd9628",
   "metadata": {},
   "outputs": [
    {
     "data": {
      "text/plain": [
       "complex"
      ]
     },
     "execution_count": 4,
     "metadata": {},
     "output_type": "execute_result"
    }
   ],
   "source": [
    "type(t1[4])"
   ]
  },
  {
   "cell_type": "code",
   "execution_count": 5,
   "id": "e9aae25a",
   "metadata": {},
   "outputs": [],
   "source": [
    "t2=()"
   ]
  },
  {
   "cell_type": "code",
   "execution_count": 6,
   "id": "d1f07177",
   "metadata": {},
   "outputs": [
    {
     "data": {
      "text/plain": [
       "('saket', 1)"
      ]
     },
     "execution_count": 6,
     "metadata": {},
     "output_type": "execute_result"
    }
   ],
   "source": [
    "t1[0:2]"
   ]
  },
  {
   "cell_type": "code",
   "execution_count": 7,
   "id": "4ba95d8f",
   "metadata": {},
   "outputs": [
    {
     "data": {
      "text/plain": [
       "((4+7j), 45.0, 345, 1, 'saket')"
      ]
     },
     "execution_count": 7,
     "metadata": {},
     "output_type": "execute_result"
    }
   ],
   "source": [
    "t1[::-1]"
   ]
  },
  {
   "cell_type": "code",
   "execution_count": 8,
   "id": "364a05fb",
   "metadata": {},
   "outputs": [
    {
     "data": {
      "text/plain": [
       "(4+7j)"
      ]
     },
     "execution_count": 8,
     "metadata": {},
     "output_type": "execute_result"
    }
   ],
   "source": [
    "t1[-1]"
   ]
  },
  {
   "cell_type": "code",
   "execution_count": 9,
   "id": "d2bc88ee",
   "metadata": {},
   "outputs": [
    {
     "data": {
      "text/plain": [
       "('saket', 345, (4+7j))"
      ]
     },
     "execution_count": 9,
     "metadata": {},
     "output_type": "execute_result"
    }
   ],
   "source": [
    "t1[0::2]"
   ]
  },
  {
   "cell_type": "code",
   "execution_count": 11,
   "id": "009b7b9e",
   "metadata": {},
   "outputs": [
    {
     "ename": "TypeError",
     "evalue": "'tuple' object does not support item assignment",
     "output_type": "error",
     "traceback": [
      "\u001b[1;31m---------------------------------------------------------------------------\u001b[0m",
      "\u001b[1;31mTypeError\u001b[0m                                 Traceback (most recent call last)",
      "Input \u001b[1;32mIn [11]\u001b[0m, in \u001b[0;36m<cell line: 1>\u001b[1;34m()\u001b[0m\n\u001b[1;32m----> 1\u001b[0m t1[\u001b[38;5;241m0\u001b[39m]\u001b[38;5;241m=\u001b[39m\u001b[38;5;124m'\u001b[39m\u001b[38;5;124mxyz\u001b[39m\u001b[38;5;124m'\u001b[39m\n",
      "\u001b[1;31mTypeError\u001b[0m: 'tuple' object does not support item assignment"
     ]
    }
   ],
   "source": [
    "t1[0]='xyz'#immutable classification"
   ]
  },
  {
   "cell_type": "code",
   "execution_count": 12,
   "id": "91589734",
   "metadata": {},
   "outputs": [
    {
     "data": {
      "text/plain": [
       "('saket', 1, 345, 45.0, (4+7j), 2, 4, 5)"
      ]
     },
     "execution_count": 12,
     "metadata": {},
     "output_type": "execute_result"
    }
   ],
   "source": [
    "t2=(2,4,5)\n",
    "t1+t2"
   ]
  },
  {
   "cell_type": "code",
   "execution_count": 13,
   "id": "a06b1ba9",
   "metadata": {},
   "outputs": [
    {
     "data": {
      "text/plain": [
       "('saket', 1, 345, 45.0, (4+7j), 'saket', 1, 345, 45.0, (4+7j))"
      ]
     },
     "execution_count": 13,
     "metadata": {},
     "output_type": "execute_result"
    }
   ],
   "source": [
    "t1*2"
   ]
  },
  {
   "cell_type": "code",
   "execution_count": 14,
   "id": "016c13da",
   "metadata": {},
   "outputs": [
    {
     "data": {
      "text/plain": [
       "1"
      ]
     },
     "execution_count": 14,
     "metadata": {},
     "output_type": "execute_result"
    }
   ],
   "source": [
    "t1.count('saket')"
   ]
  },
  {
   "cell_type": "code",
   "execution_count": 15,
   "id": "338618c1",
   "metadata": {},
   "outputs": [
    {
     "data": {
      "text/plain": [
       "0"
      ]
     },
     "execution_count": 15,
     "metadata": {},
     "output_type": "execute_result"
    }
   ],
   "source": [
    "t1.index(\"saket\")"
   ]
  },
  {
   "cell_type": "code",
   "execution_count": 16,
   "id": "5ba6e842",
   "metadata": {},
   "outputs": [
    {
     "data": {
      "text/plain": [
       "2185226629008"
      ]
     },
     "execution_count": 16,
     "metadata": {},
     "output_type": "execute_result"
    }
   ],
   "source": [
    "id(t1)"
   ]
  },
  {
   "cell_type": "code",
   "execution_count": 17,
   "id": "1736f801",
   "metadata": {},
   "outputs": [],
   "source": [
    "l=[2,3,4,3,3,3,3,35,6,6,6,7,7,2,5,5,55,5,5,55,5,]"
   ]
  },
  {
   "cell_type": "code",
   "execution_count": 18,
   "id": "de005de2",
   "metadata": {},
   "outputs": [
    {
     "data": {
      "text/plain": [
       "{2, 3, 4, 5, 6, 7, 35, 55}"
      ]
     },
     "execution_count": 18,
     "metadata": {},
     "output_type": "execute_result"
    }
   ],
   "source": [
    "set(l)#remove duplicates"
   ]
  },
  {
   "cell_type": "code",
   "execution_count": 19,
   "id": "01d88e5c",
   "metadata": {},
   "outputs": [
    {
     "data": {
      "text/plain": [
       "dict"
      ]
     },
     "execution_count": 19,
     "metadata": {},
     "output_type": "execute_result"
    }
   ],
   "source": [
    "s={}\n",
    "type(s)"
   ]
  },
  {
   "cell_type": "code",
   "execution_count": 20,
   "id": "0349fc2b",
   "metadata": {},
   "outputs": [
    {
     "data": {
      "text/plain": [
       "set"
      ]
     },
     "execution_count": 20,
     "metadata": {},
     "output_type": "execute_result"
    }
   ],
   "source": [
    "s={2,3,4}\n",
    "type(s)"
   ]
  },
  {
   "cell_type": "code",
   "execution_count": 21,
   "id": "59bb27fe",
   "metadata": {},
   "outputs": [
    {
     "data": {
      "text/plain": [
       "{1, 2, 3, 4, 5}"
      ]
     },
     "execution_count": 21,
     "metadata": {},
     "output_type": "execute_result"
    }
   ],
   "source": [
    "s2={1,1,1,2,3,3,4,4,5,}\n",
    "s2"
   ]
  },
  {
   "cell_type": "code",
   "execution_count": 27,
   "id": "cb6d7f18",
   "metadata": {},
   "outputs": [],
   "source": [
    "#in set is not slicicng not accessible\n"
   ]
  },
  {
   "cell_type": "code",
   "execution_count": 28,
   "id": "0613187e",
   "metadata": {},
   "outputs": [],
   "source": [
    "c=list(s2)"
   ]
  },
  {
   "cell_type": "code",
   "execution_count": 29,
   "id": "62c970af",
   "metadata": {},
   "outputs": [
    {
     "data": {
      "text/plain": [
       "1"
      ]
     },
     "execution_count": 29,
     "metadata": {},
     "output_type": "execute_result"
    }
   ],
   "source": [
    "c[0]"
   ]
  },
  {
   "cell_type": "code",
   "execution_count": 30,
   "id": "83513e77",
   "metadata": {},
   "outputs": [],
   "source": [
    "s2.add(8)"
   ]
  },
  {
   "cell_type": "code",
   "execution_count": 31,
   "id": "418c35dd",
   "metadata": {},
   "outputs": [
    {
     "data": {
      "text/plain": [
       "{1, 2, 3, 4, 5, 8}"
      ]
     },
     "execution_count": 31,
     "metadata": {},
     "output_type": "execute_result"
    }
   ],
   "source": [
    "s2"
   ]
  },
  {
   "cell_type": "code",
   "execution_count": 32,
   "id": "77dc38b9",
   "metadata": {},
   "outputs": [],
   "source": [
    "s2.add(\"sudg\")"
   ]
  },
  {
   "cell_type": "code",
   "execution_count": 33,
   "id": "f523fe38",
   "metadata": {},
   "outputs": [
    {
     "data": {
      "text/plain": [
       "{1, 2, 3, 4, 5, 8, 'sudg'}"
      ]
     },
     "execution_count": 33,
     "metadata": {},
     "output_type": "execute_result"
    }
   ],
   "source": [
    "s2"
   ]
  },
  {
   "cell_type": "code",
   "execution_count": 35,
   "id": "79e75614",
   "metadata": {},
   "outputs": [],
   "source": [
    "#s2.add([2,3,4])#set always hold unordered unique data points"
   ]
  },
  {
   "cell_type": "code",
   "execution_count": 39,
   "id": "b6c1d8c8",
   "metadata": {},
   "outputs": [],
   "source": [
    "s={(3,4,5,5,6),4,4,41,3}#tuples same of type applicable and set operations work on tuples"
   ]
  },
  {
   "cell_type": "code",
   "execution_count": 41,
   "id": "9b606ddb",
   "metadata": {},
   "outputs": [],
   "source": [
    "s.discard(41)#it doesnot produces error if element not present like remove"
   ]
  },
  {
   "cell_type": "code",
   "execution_count": 42,
   "id": "6993abce",
   "metadata": {},
   "outputs": [],
   "source": [
    "d={4:'saket',5:\"alka\"}"
   ]
  },
  {
   "cell_type": "code",
   "execution_count": 43,
   "id": "899f3ae6",
   "metadata": {},
   "outputs": [
    {
     "data": {
      "text/plain": [
       "'saket'"
      ]
     },
     "execution_count": 43,
     "metadata": {},
     "output_type": "execute_result"
    }
   ],
   "source": [
    "d[4]"
   ]
  },
  {
   "cell_type": "code",
   "execution_count": 45,
   "id": "0fb88b20",
   "metadata": {},
   "outputs": [],
   "source": [
    "d1={\"key1\":5445,\"key2\":234,\"w\":3}"
   ]
  },
  {
   "cell_type": "code",
   "execution_count": 49,
   "id": "f51a7dd6",
   "metadata": {},
   "outputs": [],
   "source": [
    "d={_4:[2,4,5,6,\"sad\"]}"
   ]
  },
  {
   "cell_type": "code",
   "execution_count": 53,
   "id": "f221e3c9",
   "metadata": {},
   "outputs": [],
   "source": [
    "d={\"name\":\"saket\",\"mob\":24735,\"mail\":\"salet@gmail.com\",\"key1\":[1,3,4,5],\"key2\":(3,4,5,60),\"key3\":{2,3,4,4,5,4,2,2,34,5}}"
   ]
  },
  {
   "cell_type": "code",
   "execution_count": 54,
   "id": "cb85aef1",
   "metadata": {},
   "outputs": [
    {
     "data": {
      "text/plain": [
       "{'name': 'saket',\n",
       " 'mob': 24735,\n",
       " 'mail': 'salet@gmail.com',\n",
       " 'key1': [1, 3, 4, 5],\n",
       " 'key2': (3, 4, 5, 60),\n",
       " 'key3': {2, 3, 4, 5, 34}}"
      ]
     },
     "execution_count": 54,
     "metadata": {},
     "output_type": "execute_result"
    }
   ],
   "source": [
    "d"
   ]
  },
  {
   "cell_type": "code",
   "execution_count": 56,
   "id": "248ba78f",
   "metadata": {},
   "outputs": [
    {
     "data": {
      "text/plain": [
       "4"
      ]
     },
     "execution_count": 56,
     "metadata": {},
     "output_type": "execute_result"
    }
   ],
   "source": [
    "d[\"key1\"][2]"
   ]
  },
  {
   "cell_type": "code",
   "execution_count": 57,
   "id": "f48b4b99",
   "metadata": {},
   "outputs": [
    {
     "data": {
      "text/plain": [
       "dict_keys(['name', 'mob', 'mail', 'key1', 'key2', 'key3'])"
      ]
     },
     "execution_count": 57,
     "metadata": {},
     "output_type": "execute_result"
    }
   ],
   "source": [
    "d.keys()"
   ]
  },
  {
   "cell_type": "code",
   "execution_count": 58,
   "id": "bc3d821d",
   "metadata": {},
   "outputs": [
    {
     "data": {
      "text/plain": [
       "dict_values(['saket', 24735, 'salet@gmail.com', [1, 3, 4, 5], (3, 4, 5, 60), {34, 3, 2, 4, 5}])"
      ]
     },
     "execution_count": 58,
     "metadata": {},
     "output_type": "execute_result"
    }
   ],
   "source": [
    "d.values()"
   ]
  },
  {
   "cell_type": "code",
   "execution_count": 60,
   "id": "9c93d5f8",
   "metadata": {},
   "outputs": [
    {
     "data": {
      "text/plain": [
       "dict_items"
      ]
     },
     "execution_count": 60,
     "metadata": {},
     "output_type": "execute_result"
    }
   ],
   "source": [
    "type(d.items())"
   ]
  },
  {
   "cell_type": "code",
   "execution_count": 61,
   "id": "1b9a231b",
   "metadata": {},
   "outputs": [],
   "source": [
    "d={\"key1\":\"sudh\",\"key2\":[1,2,3,4]}"
   ]
  },
  {
   "cell_type": "code",
   "execution_count": 62,
   "id": "dd511e6f",
   "metadata": {},
   "outputs": [],
   "source": [
    "d['key3']=\"saket\"#create new key"
   ]
  },
  {
   "cell_type": "code",
   "execution_count": 63,
   "id": "4bb1ccc2",
   "metadata": {},
   "outputs": [
    {
     "data": {
      "text/plain": [
       "{'key1': 'sudh', 'key2': [1, 2, 3, 4], 'key3': 'saket'}"
      ]
     },
     "execution_count": 63,
     "metadata": {},
     "output_type": "execute_result"
    }
   ],
   "source": [
    "d"
   ]
  },
  {
   "cell_type": "code",
   "execution_count": 64,
   "id": "d56dc007",
   "metadata": {},
   "outputs": [],
   "source": [
    "d[\"key1\"]='saket'"
   ]
  },
  {
   "cell_type": "code",
   "execution_count": 65,
   "id": "4b105f00",
   "metadata": {},
   "outputs": [
    {
     "data": {
      "text/plain": [
       "{'key1': 'saket', 'key2': [1, 2, 3, 4], 'key3': 'saket'}"
      ]
     },
     "execution_count": 65,
     "metadata": {},
     "output_type": "execute_result"
    }
   ],
   "source": [
    "d"
   ]
  },
  {
   "cell_type": "code",
   "execution_count": 66,
   "id": "5f3fb904",
   "metadata": {},
   "outputs": [],
   "source": [
    "del d[\"key1\"]"
   ]
  },
  {
   "cell_type": "code",
   "execution_count": 67,
   "id": "002ef1fe",
   "metadata": {},
   "outputs": [
    {
     "data": {
      "text/plain": [
       "{'key2': [1, 2, 3, 4], 'key3': 'saket'}"
      ]
     },
     "execution_count": 67,
     "metadata": {},
     "output_type": "execute_result"
    }
   ],
   "source": [
    "d"
   ]
  },
  {
   "cell_type": "code",
   "execution_count": 68,
   "id": "4af8e22d",
   "metadata": {},
   "outputs": [],
   "source": [
    "d1={\"key1\":\"sak\",\"key2\":[4,5,6,7,8]}"
   ]
  },
  {
   "cell_type": "code",
   "execution_count": 69,
   "id": "9d1acb4b",
   "metadata": {},
   "outputs": [],
   "source": [
    "d1[(1,3,4)]=\"tiple\""
   ]
  },
  {
   "cell_type": "code",
   "execution_count": 70,
   "id": "e3d40f86",
   "metadata": {},
   "outputs": [
    {
     "data": {
      "text/plain": [
       "{'key1': 'sak', 'key2': [4, 5, 6, 7, 8], (1, 3, 4): 'tiple'}"
      ]
     },
     "execution_count": 70,
     "metadata": {},
     "output_type": "execute_result"
    }
   ],
   "source": [
    "d1"
   ]
  },
  {
   "cell_type": "code",
   "execution_count": 71,
   "id": "7855edc1",
   "metadata": {},
   "outputs": [
    {
     "data": {
      "text/plain": [
       "'sak'"
      ]
     },
     "execution_count": 71,
     "metadata": {},
     "output_type": "execute_result"
    }
   ],
   "source": [
    "d1.get(\"key1\")"
   ]
  },
  {
   "cell_type": "code",
   "execution_count": 72,
   "id": "2e3fb8a1",
   "metadata": {},
   "outputs": [],
   "source": [
    "d={\"key1\":\"sudh\",\"key2\":[1,2,3,4]}"
   ]
  },
  {
   "cell_type": "code",
   "execution_count": 73,
   "id": "e38eb95b",
   "metadata": {},
   "outputs": [],
   "source": [
    "d1={\"key1\":5445,\"key2\":234,\"w\":3}"
   ]
  },
  {
   "cell_type": "code",
   "execution_count": 74,
   "id": "e4e22b7d",
   "metadata": {},
   "outputs": [],
   "source": [
    "d1.update(d)"
   ]
  },
  {
   "cell_type": "code",
   "execution_count": 76,
   "id": "94222bb3",
   "metadata": {},
   "outputs": [
    {
     "data": {
      "text/plain": [
       "{'key1': 'sudh', 'key2': [1, 2, 3, 4], 'w': 3}"
      ]
     },
     "execution_count": 76,
     "metadata": {},
     "output_type": "execute_result"
    }
   ],
   "source": [
    "d1"
   ]
  },
  {
   "cell_type": "code",
   "execution_count": 77,
   "id": "d8a20acd",
   "metadata": {},
   "outputs": [
    {
     "ename": "TypeError",
     "evalue": "unsupported operand type(s) for +: 'dict' and 'dict'",
     "output_type": "error",
     "traceback": [
      "\u001b[1;31m---------------------------------------------------------------------------\u001b[0m",
      "\u001b[1;31mTypeError\u001b[0m                                 Traceback (most recent call last)",
      "Input \u001b[1;32mIn [77]\u001b[0m, in \u001b[0;36m<cell line: 1>\u001b[1;34m()\u001b[0m\n\u001b[1;32m----> 1\u001b[0m \u001b[43md1\u001b[49m\u001b[38;5;241;43m+\u001b[39;49m\u001b[43md\u001b[49m\n",
      "\u001b[1;31mTypeError\u001b[0m: unsupported operand type(s) for +: 'dict' and 'dict'"
     ]
    }
   ],
   "source": [
    "d1+d"
   ]
  },
  {
   "cell_type": "code",
   "execution_count": 78,
   "id": "d2a64915",
   "metadata": {},
   "outputs": [],
   "source": [
    "key=(\"name\",\"mob\")\n",
    "values=\"sak\""
   ]
  },
  {
   "cell_type": "code",
   "execution_count": 80,
   "id": "9811318d",
   "metadata": {},
   "outputs": [],
   "source": [
    "d=d1.fromkeys(key,values)#d1 used as reference"
   ]
  },
  {
   "cell_type": "code",
   "execution_count": 81,
   "id": "af43b2c3",
   "metadata": {},
   "outputs": [
    {
     "data": {
      "text/plain": [
       "{'name': 'sak', 'mob': 'sak'}"
      ]
     },
     "execution_count": 81,
     "metadata": {},
     "output_type": "execute_result"
    }
   ],
   "source": [
    "d"
   ]
  },
  {
   "cell_type": "code",
   "execution_count": null,
   "id": "e540e087",
   "metadata": {},
   "outputs": [],
   "source": []
  }
 ],
 "metadata": {
  "kernelspec": {
   "display_name": "Python 3 (ipykernel)",
   "language": "python",
   "name": "python3"
  },
  "language_info": {
   "codemirror_mode": {
    "name": "ipython",
    "version": 3
   },
   "file_extension": ".py",
   "mimetype": "text/x-python",
   "name": "python",
   "nbconvert_exporter": "python",
   "pygments_lexer": "ipython3",
   "version": "3.9.12"
  }
 },
 "nbformat": 4,
 "nbformat_minor": 5
}
