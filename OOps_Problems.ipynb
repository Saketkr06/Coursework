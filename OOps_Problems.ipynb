{
  "nbformat": 4,
  "nbformat_minor": 0,
  "metadata": {
    "colab": {
      "provenance": [],
      "authorship_tag": "ABX9TyM6lrnat04/26EofI1nj8G4",
      "include_colab_link": true
    },
    "kernelspec": {
      "name": "python3",
      "display_name": "Python 3"
    },
    "language_info": {
      "name": "python"
    }
  },
  "cells": [
    {
      "cell_type": "markdown",
      "metadata": {
        "id": "view-in-github",
        "colab_type": "text"
      },
      "source": [
        "<a href=\"https://colab.research.google.com/github/Saketkr06/Coursework/blob/main/OOps_Problems.ipynb\" target=\"_parent\"><img src=\"https://colab.research.google.com/assets/colab-badge.svg\" alt=\"Open In Colab\"/></a>"
      ]
    },
    {
      "cell_type": "markdown",
      "source": [
        "## Bank account"
      ],
      "metadata": {
        "id": "ypOTc2294Eg-"
      }
    },
    {
      "cell_type": "code",
      "execution_count": 1,
      "metadata": {
        "id": "2-SIaxl41ANJ"
      },
      "outputs": [],
      "source": [
        "class BankAccount:\n",
        "  def __init__(self,account_number,account_holder_name,balance=0):\n",
        "    self.account_number=account_number\n",
        "    self.account_holder_name=account_holder_name\n",
        "    self.balance=balance\n",
        "\n",
        "  def deposits(self,amount):\n",
        "    self.balance += amount\n",
        "\n",
        "\n",
        "  def withdraw(self,amount):\n",
        "\n",
        "    if amount > self.balance:\n",
        "      print('Insufficient Balance')\n",
        "\n",
        "    else:\n",
        "      self.balance -= amount\n",
        "\n",
        "  def check_balance(self):\n",
        "\n",
        "    return self.balance\n",
        "\n"
      ]
    },
    {
      "cell_type": "code",
      "source": [
        "a=BankAccount(21453,'Saket',5000)"
      ],
      "metadata": {
        "id": "ooTlvZCA2w3L"
      },
      "execution_count": 2,
      "outputs": []
    },
    {
      "cell_type": "code",
      "source": [
        "a.deposits(300)"
      ],
      "metadata": {
        "id": "HqhTQkur26c5"
      },
      "execution_count": 3,
      "outputs": []
    },
    {
      "cell_type": "code",
      "source": [
        "a.withdraw(4500)"
      ],
      "metadata": {
        "id": "nXaqK2NF2_UU"
      },
      "execution_count": 4,
      "outputs": []
    },
    {
      "cell_type": "code",
      "source": [
        "a.check_balance()"
      ],
      "metadata": {
        "colab": {
          "base_uri": "https://localhost:8080/"
        },
        "id": "IsNl0huV3Eu6",
        "outputId": "4dac6e67-6c2a-4f60-ee63-f40d87e77c96"
      },
      "execution_count": 5,
      "outputs": [
        {
          "output_type": "execute_result",
          "data": {
            "text/plain": [
              "800"
            ]
          },
          "metadata": {},
          "execution_count": 5
        }
      ]
    },
    {
      "cell_type": "markdown",
      "source": [
        "## Cards Shuffling"
      ],
      "metadata": {
        "id": "nM5o-4Eb4S5Z"
      }
    },
    {
      "cell_type": "code",
      "source": [
        "import random"
      ],
      "metadata": {
        "id": "6Saj-YaP3If6"
      },
      "execution_count": 6,
      "outputs": []
    },
    {
      "cell_type": "code",
      "source": [
        "class DeckofCards:\n",
        "  def __init__(self):\n",
        "\n",
        "    self.cards=[]\n",
        "    for suit in ['Hearts','Diamonds','Spades','Clubs']:\n",
        "      for rank in range(1,14):\n",
        "        card=(rank,suit)\n",
        "        self.cards.append(card)\n",
        "\n",
        "    self.num_cards=len(self.cards)\n",
        "\n",
        "  def Shuffle(self):\n",
        "    random.shuffle(self.cards)\n",
        "\n",
        "  def deal_cards(self):\n",
        "\n",
        "    if self.num_cards ==0:\n",
        "      print('No cards left in the stock')\n",
        "\n",
        "    else:\n",
        "      card=self.cards.pop()\n",
        "      self.num_cards -=1\n",
        "\n",
        "      return card\n"
      ],
      "metadata": {
        "id": "ZeEy9pdT4Z5b"
      },
      "execution_count": 7,
      "outputs": []
    },
    {
      "cell_type": "code",
      "source": [
        "a=DeckofCards()"
      ],
      "metadata": {
        "id": "-ngITEiX6KdR"
      },
      "execution_count": 8,
      "outputs": []
    },
    {
      "cell_type": "code",
      "source": [
        "a.Shuffle()"
      ],
      "metadata": {
        "id": "gg9QzpBA6Sz-"
      },
      "execution_count": 9,
      "outputs": []
    },
    {
      "cell_type": "code",
      "source": [
        "a.deal_cards()"
      ],
      "metadata": {
        "colab": {
          "base_uri": "https://localhost:8080/"
        },
        "id": "jz4Y3Prt6X79",
        "outputId": "5757116f-252c-4cbc-ed1a-340d7f588350"
      },
      "execution_count": 10,
      "outputs": [
        {
          "output_type": "execute_result",
          "data": {
            "text/plain": [
              "(8, 'Clubs')"
            ]
          },
          "metadata": {},
          "execution_count": 10
        }
      ]
    },
    {
      "cell_type": "code",
      "source": [
        "a.cards"
      ],
      "metadata": {
        "colab": {
          "base_uri": "https://localhost:8080/"
        },
        "id": "IvwUXR1o6c0S",
        "outputId": "3cd579a9-181f-47ff-e168-10719bd0d2d4"
      },
      "execution_count": 11,
      "outputs": [
        {
          "output_type": "execute_result",
          "data": {
            "text/plain": [
              "[(5, 'Diamonds'),\n",
              " (7, 'Clubs'),\n",
              " (4, 'Clubs'),\n",
              " (4, 'Spades'),\n",
              " (8, 'Hearts'),\n",
              " (5, 'Hearts'),\n",
              " (10, 'Hearts'),\n",
              " (5, 'Spades'),\n",
              " (12, 'Hearts'),\n",
              " (3, 'Spades'),\n",
              " (7, 'Diamonds'),\n",
              " (3, 'Diamonds'),\n",
              " (9, 'Hearts'),\n",
              " (11, 'Diamonds'),\n",
              " (11, 'Clubs'),\n",
              " (6, 'Clubs'),\n",
              " (4, 'Hearts'),\n",
              " (2, 'Hearts'),\n",
              " (1, 'Clubs'),\n",
              " (8, 'Spades'),\n",
              " (3, 'Hearts'),\n",
              " (9, 'Spades'),\n",
              " (1, 'Hearts'),\n",
              " (1, 'Diamonds'),\n",
              " (9, 'Clubs'),\n",
              " (2, 'Diamonds'),\n",
              " (5, 'Clubs'),\n",
              " (10, 'Diamonds'),\n",
              " (13, 'Diamonds'),\n",
              " (7, 'Hearts'),\n",
              " (13, 'Spades'),\n",
              " (10, 'Clubs'),\n",
              " (11, 'Hearts'),\n",
              " (12, 'Clubs'),\n",
              " (11, 'Spades'),\n",
              " (12, 'Spades'),\n",
              " (6, 'Spades'),\n",
              " (3, 'Clubs'),\n",
              " (13, 'Hearts'),\n",
              " (2, 'Spades'),\n",
              " (4, 'Diamonds'),\n",
              " (6, 'Hearts'),\n",
              " (2, 'Clubs'),\n",
              " (6, 'Diamonds'),\n",
              " (13, 'Clubs'),\n",
              " (8, 'Diamonds'),\n",
              " (10, 'Spades'),\n",
              " (12, 'Diamonds'),\n",
              " (7, 'Spades'),\n",
              " (9, 'Diamonds'),\n",
              " (1, 'Spades')]"
            ]
          },
          "metadata": {},
          "execution_count": 11
        }
      ]
    },
    {
      "cell_type": "markdown",
      "source": [
        "## Stack "
      ],
      "metadata": {
        "id": "jYfMiAM36y-6"
      }
    },
    {
      "cell_type": "code",
      "source": [
        "class Stack:\n",
        "  def __init__(self):\n",
        "    self.items=[]\n",
        "\n",
        "  def is_empty(self):\n",
        "    return len(self.items)==0\n",
        "\n",
        "  def push(self,item):\n",
        "    self.items.append(item)\n",
        "\n",
        "  def pop(self):\n",
        "    if self.is_empty():\n",
        "      print('Stack is empty')\n",
        "\n",
        "    else:\n",
        "\n",
        "      self.items.pop()\n",
        "\n",
        "  "
      ],
      "metadata": {
        "id": "-jXgUy4r6kDA"
      },
      "execution_count": 16,
      "outputs": []
    },
    {
      "cell_type": "code",
      "source": [
        "a=Stack()"
      ],
      "metadata": {
        "id": "7wCXG5Ds7yuX"
      },
      "execution_count": 17,
      "outputs": []
    },
    {
      "cell_type": "code",
      "source": [
        "a.push('Saket')"
      ],
      "metadata": {
        "id": "7gxyfb4673wQ"
      },
      "execution_count": 18,
      "outputs": []
    },
    {
      "cell_type": "code",
      "source": [],
      "metadata": {
        "id": "uj1uyaml8A-b"
      },
      "execution_count": null,
      "outputs": []
    }
  ]
}