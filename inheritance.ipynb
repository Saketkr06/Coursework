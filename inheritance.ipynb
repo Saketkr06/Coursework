{
 "cells": [
  {
   "cell_type": "markdown",
   "id": "f02ed05b",
   "metadata": {},
   "source": [
    "If we inherent property of parent class in child class....is called inheritance\n",
    "types:single,multilayer,hierarchial,hybrid\n",
    "\n",
    "class Parent class:\n",
    "\n",
    "\n",
    "class Derived class(child) class:\n",
    "\n",
    "\n"
   ]
  },
  {
   "cell_type": "code",
   "execution_count": 5,
   "id": "b2fd362f",
   "metadata": {},
   "outputs": [],
   "source": [
    "class Parent:\n",
    "    def func1(self):\n",
    "        print(\"Hello from parent class\")\n",
    "class child(Parent):\n",
    "    def func2(self):\n",
    "        print(\"Hello child\")"
   ]
  },
  {
   "cell_type": "code",
   "execution_count": 6,
   "id": "25233a30",
   "metadata": {},
   "outputs": [],
   "source": [
    "test=child()"
   ]
  },
  {
   "cell_type": "code",
   "execution_count": 7,
   "id": "3883183d",
   "metadata": {},
   "outputs": [
    {
     "name": "stdout",
     "output_type": "stream",
     "text": [
      "Hello from parent class\n"
     ]
    }
   ],
   "source": [
    "test.func1()"
   ]
  },
  {
   "cell_type": "code",
   "execution_count": 8,
   "id": "b7f51550",
   "metadata": {},
   "outputs": [
    {
     "name": "stdout",
     "output_type": "stream",
     "text": [
      "Hello child\n"
     ]
    }
   ],
   "source": [
    "test.func2()"
   ]
  },
  {
   "cell_type": "code",
   "execution_count": 10,
   "id": "ef6e8946",
   "metadata": {},
   "outputs": [],
   "source": [
    "class Ineuron:\n",
    "    company_website=\"http://ineuron.ai\"\n",
    "    name=\"Ineuron\"\n",
    "    \n",
    "    def contact_details(self):\n",
    "        print(\"contact us at\",self.company_website)\n",
    "        \n",
    "class Datascience(Ineuron): #inherites property of parent class\n",
    "    def __init__(self):\n",
    "        self.year_of_establishment=2018\n",
    "        \n",
    "    def est_details(self):\n",
    "        print(\"est details\",self.name,self.year_of_establishment)"
   ]
  },
  {
   "cell_type": "code",
   "execution_count": 13,
   "id": "7f2ed57d",
   "metadata": {},
   "outputs": [],
   "source": [
    " ds=Datascience()"
   ]
  },
  {
   "cell_type": "code",
   "execution_count": 14,
   "id": "56f13284",
   "metadata": {},
   "outputs": [
    {
     "name": "stdout",
     "output_type": "stream",
     "text": [
      "contact us at http://ineuron.ai\n"
     ]
    }
   ],
   "source": [
    "ds.contact_details()"
   ]
  },
  {
   "cell_type": "markdown",
   "id": "9c14156f",
   "metadata": {},
   "source": [
    "# Multiple Inheritance"
   ]
  },
  {
   "cell_type": "code",
   "execution_count": 15,
   "id": "5ba86c45",
   "metadata": {},
   "outputs": [],
   "source": [
    "class Parent1:\n",
    "    def func1(self):\n",
    "        print(\"hello from parent1\")\n",
    "class Parent2:\n",
    "    def func2(self):\n",
    "        print(\"Hello from parent2\")\n",
    "        \n",
    "class child(Parent1,Parent2):\n",
    "    def func3(self):\n",
    "        print(\"Hello child\")"
   ]
  },
  {
   "cell_type": "code",
   "execution_count": 16,
   "id": "517d3c52",
   "metadata": {},
   "outputs": [],
   "source": [
    "test=child()"
   ]
  },
  {
   "cell_type": "code",
   "execution_count": 17,
   "id": "7004bb12",
   "metadata": {},
   "outputs": [
    {
     "name": "stdout",
     "output_type": "stream",
     "text": [
      "hello from parent1\n"
     ]
    }
   ],
   "source": [
    "test.func1()"
   ]
  },
  {
   "cell_type": "code",
   "execution_count": 18,
   "id": "d3e7db7d",
   "metadata": {},
   "outputs": [],
   "source": [
    "class Batch_number:\n",
    "    batchnumber=\"\"\n",
    "    def __init__(self,a,b,c):\n",
    "        self.a=a\n",
    "        self.b=b\n",
    "        self.c=c\n",
    "        \n",
    "    def batch(self):\n",
    "        print(self.batchnumber)\n",
    "class Course_name:\n",
    "    cname=\"\"\n",
    "    def course(self):\n",
    "        print(self.cname)\n",
    "class Student(Batch_number,Course_name):\n",
    "    def show(self):\n",
    "        print(\"Batch :\",self.batchnumber)\n",
    "        print(\"Course :\",self.cname)\n",
    "        "
   ]
  },
  {
   "cell_type": "code",
   "execution_count": 19,
   "id": "4e2c176a",
   "metadata": {},
   "outputs": [],
   "source": [
    "s1=Student(4,5,6)"
   ]
  },
  {
   "cell_type": "code",
   "execution_count": 20,
   "id": "68de7ebb",
   "metadata": {},
   "outputs": [],
   "source": [
    "s1.batchnumber=\"2\""
   ]
  },
  {
   "cell_type": "code",
   "execution_count": 21,
   "id": "a411fa45",
   "metadata": {},
   "outputs": [],
   "source": [
    "s1.cname=\"FSDS\""
   ]
  },
  {
   "cell_type": "code",
   "execution_count": 23,
   "id": "fa87a05b",
   "metadata": {},
   "outputs": [
    {
     "name": "stdout",
     "output_type": "stream",
     "text": [
      "FSDS\n"
     ]
    }
   ],
   "source": [
    "s1.course()"
   ]
  },
  {
   "cell_type": "code",
   "execution_count": 24,
   "id": "d4b7f94c",
   "metadata": {},
   "outputs": [
    {
     "name": "stdout",
     "output_type": "stream",
     "text": [
      "Batch : 2\n",
      "Course : FSDS\n"
     ]
    }
   ],
   "source": [
    "s1.show()"
   ]
  },
  {
   "cell_type": "markdown",
   "id": "efadab42",
   "metadata": {},
   "source": [
    "# Multilevel Inheritance"
   ]
  },
  {
   "cell_type": "code",
   "execution_count": 26,
   "id": "e211c59f",
   "metadata": {},
   "outputs": [],
   "source": [
    "class test1:\n",
    "    def a(self):\n",
    "        print(\"Inside test1\")\n",
    "class test2(test1):\n",
    "    def b(self):\n",
    "        print(\"Inside test2\")\n",
    "        \n",
    "class test3(test2):\n",
    "    def c(self):\n",
    "        print(\"Inside test 3\")"
   ]
  },
  {
   "cell_type": "code",
   "execution_count": 27,
   "id": "06b92691",
   "metadata": {},
   "outputs": [],
   "source": [
    "t1=test3()"
   ]
  },
  {
   "cell_type": "code",
   "execution_count": 29,
   "id": "bcb998e3",
   "metadata": {},
   "outputs": [
    {
     "name": "stdout",
     "output_type": "stream",
     "text": [
      "Inside test 3\n"
     ]
    }
   ],
   "source": [
    "t1.c()"
   ]
  },
  {
   "cell_type": "code",
   "execution_count": 30,
   "id": "34952c8f",
   "metadata": {},
   "outputs": [],
   "source": [
    "class vehicle:\n",
    "    def info(self):\n",
    "        print(\"Inside vehicle class\")\n",
    "class Car(vehicle):\n",
    "    def car_info(self):\n",
    "        print(\"Inside car class\")\n",
    "        \n",
    "class sportscar(Car):\n",
    "    def sportscar(self):\n",
    "        print(\"Inside sports car\")"
   ]
  },
  {
   "cell_type": "code",
   "execution_count": 31,
   "id": "4d83c47f",
   "metadata": {},
   "outputs": [],
   "source": [
    "s1=sportscar()"
   ]
  },
  {
   "cell_type": "code",
   "execution_count": 32,
   "id": "3e2be011",
   "metadata": {},
   "outputs": [
    {
     "name": "stdout",
     "output_type": "stream",
     "text": [
      "Inside car class\n"
     ]
    }
   ],
   "source": [
    "s1.car_info()"
   ]
  },
  {
   "cell_type": "code",
   "execution_count": 36,
   "id": "a5e99573",
   "metadata": {},
   "outputs": [],
   "source": [
    "class Phones:\n",
    "    def __init__(self,brand,model,price):#constructor\n",
    "        self.brand=brand\n",
    "        self.model=model\n",
    "        self.price=price\n",
    "        \n",
    "    def specs(self):#methods\n",
    "        return(\"brand\",self.brand,\"Price\",self.price)\n",
    "    \n",
    "    def type_of_phone(self):#methods\n",
    "        if self.price<25000:\n",
    "            return(\"Its budget phone\")\n",
    "        else:\n",
    "            return(\"This is a midrange phone\")\n",
    "class Smartphone(Phones):\n",
    "    def __init__(self,brand,model,price,ram,storage):\n",
    "        super().__init__(brand,model,price)#preceeding parent class\n",
    "        self.ram=ram\n",
    "        self.storage=storage\n",
    "class Flagshipphone(Smartphone):\n",
    "    def __init__(self,brand,model,price,ram,storage,frontcamera,backcamera,display):\n",
    "        super().__init__(brand,model,price,ram,storage)\n",
    "        self.frontcamera=frontcamera\n",
    "        self.backcamera=backcamera\n",
    "        self.display=display"
   ]
  },
  {
   "cell_type": "code",
   "execution_count": 37,
   "id": "9f0e54a9",
   "metadata": {},
   "outputs": [],
   "source": [
    "p1=Flagshipphone(\"MI\",\"Note 7\",35000,256,512,\"5mp\",\"20mp\",'s')"
   ]
  },
  {
   "cell_type": "code",
   "execution_count": 39,
   "id": "e294ed6e",
   "metadata": {},
   "outputs": [
    {
     "data": {
      "text/plain": [
       "35000"
      ]
     },
     "execution_count": 39,
     "metadata": {},
     "output_type": "execute_result"
    }
   ],
   "source": [
    "p1.price"
   ]
  },
  {
   "cell_type": "code",
   "execution_count": 40,
   "id": "76768e35",
   "metadata": {},
   "outputs": [
    {
     "data": {
      "text/plain": [
       "('brand', 'MI', 'Price', 35000)"
      ]
     },
     "execution_count": 40,
     "metadata": {},
     "output_type": "execute_result"
    }
   ],
   "source": [
    "p1.specs()"
   ]
  },
  {
   "cell_type": "code",
   "execution_count": 41,
   "id": "76235993",
   "metadata": {},
   "outputs": [
    {
     "data": {
      "text/plain": [
       "'This is a midrange phone'"
      ]
     },
     "execution_count": 41,
     "metadata": {},
     "output_type": "execute_result"
    }
   ],
   "source": [
    "p1.type_of_phone()"
   ]
  },
  {
   "cell_type": "markdown",
   "id": "7b2d7106",
   "metadata": {},
   "source": [
    "Hybrid Inheritance"
   ]
  },
  {
   "cell_type": "code",
   "execution_count": 42,
   "id": "fdf82959",
   "metadata": {},
   "outputs": [],
   "source": [
    "#it can take from parent class or child class ..."
   ]
  },
  {
   "cell_type": "markdown",
   "id": "f547a35d",
   "metadata": {},
   "source": [
    "Super"
   ]
  },
  {
   "cell_type": "markdown",
   "id": "91127c68",
   "metadata": {},
   "source": [
    "1.Super() is used when we need to build classes(child class) that extend the functionality of previously build classes(Parent class).\n",
    "2.Super function in python is used to access methods of immediate parent class "
   ]
  },
  {
   "cell_type": "code",
   "execution_count": 44,
   "id": "666b99e4",
   "metadata": {},
   "outputs": [],
   "source": [
    "class Company:\n",
    "    def company_name(self):\n",
    "        return \"ineuron\"\n",
    "class Employee(Company):\n",
    "    def into(self):\n",
    "        c_name=super().company_name()\n",
    "        print(\"I work at\",c_name)\n",
    "    "
   ]
  },
  {
   "cell_type": "code",
   "execution_count": 45,
   "id": "752c95a7",
   "metadata": {},
   "outputs": [],
   "source": [
    "emp=Employee()"
   ]
  },
  {
   "cell_type": "code",
   "execution_count": 46,
   "id": "811526cc",
   "metadata": {},
   "outputs": [
    {
     "data": {
      "text/plain": [
       "'ineuron'"
      ]
     },
     "execution_count": 46,
     "metadata": {},
     "output_type": "execute_result"
    }
   ],
   "source": [
    "emp.company_name()"
   ]
  },
  {
   "cell_type": "code",
   "execution_count": 47,
   "id": "eae1eac3",
   "metadata": {},
   "outputs": [
    {
     "name": "stdout",
     "output_type": "stream",
     "text": [
      "I work at ineuron\n"
     ]
    }
   ],
   "source": [
    "emp.into()"
   ]
  },
  {
   "cell_type": "markdown",
   "id": "c52d029a",
   "metadata": {},
   "source": [
    "#Once you intialize a chid class in python you can csll super().__init__() method this intializes the parent class object into child class"
   ]
  },
  {
   "cell_type": "code",
   "execution_count": 59,
   "id": "9bc46321",
   "metadata": {},
   "outputs": [],
   "source": [
    "class Parent:\n",
    "    def __init__(self,v1,v2):\n",
    "        self.v1=v1\n",
    "        self.v2=v2\n",
    "        \n",
    "class child(Parent):\n",
    "    def __init__(self,v1,v2,v3):\n",
    "        super().__init__(v1,v2)\n",
    "        self.v3=v3"
   ]
  },
  {
   "cell_type": "code",
   "execution_count": 60,
   "id": "25bdaac8",
   "metadata": {},
   "outputs": [],
   "source": [
    "c1=child(2,3,4)"
   ]
  },
  {
   "cell_type": "code",
   "execution_count": 56,
   "id": "a068aacb",
   "metadata": {},
   "outputs": [],
   "source": [
    "class Parent:\n",
    "    def __init__(self,v1,v2):\n",
    "        self.v1=v1\n",
    "        self.v2=v2\n",
    "\n",
    "class child(Parent):\n",
    "    def __init__(self,v1,v2,v3):\n",
    "        super().__init__(v1,v2)\n",
    "        self.v3=v3"
   ]
  },
  {
   "cell_type": "code",
   "execution_count": 57,
   "id": "08dcc640",
   "metadata": {},
   "outputs": [],
   "source": [
    "c1=child(2,3,4)"
   ]
  },
  {
   "cell_type": "code",
   "execution_count": 58,
   "id": "e2fa7404",
   "metadata": {},
   "outputs": [
    {
     "data": {
      "text/plain": [
       "4"
      ]
     },
     "execution_count": 58,
     "metadata": {},
     "output_type": "execute_result"
    }
   ],
   "source": [
    "c1.v3"
   ]
  },
  {
   "cell_type": "code",
   "execution_count": null,
   "id": "b4103649",
   "metadata": {},
   "outputs": [],
   "source": []
  }
 ],
 "metadata": {
  "kernelspec": {
   "display_name": "Python 3 (ipykernel)",
   "language": "python",
   "name": "python3"
  },
  "language_info": {
   "codemirror_mode": {
    "name": "ipython",
    "version": 3
   },
   "file_extension": ".py",
   "mimetype": "text/x-python",
   "name": "python",
   "nbconvert_exporter": "python",
   "pygments_lexer": "ipython3",
   "version": "3.9.12"
  }
 },
 "nbformat": 4,
 "nbformat_minor": 5
}
