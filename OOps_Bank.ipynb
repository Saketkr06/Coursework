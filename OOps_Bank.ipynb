{
  "nbformat": 4,
  "nbformat_minor": 0,
  "metadata": {
    "colab": {
      "provenance": [],
      "authorship_tag": "ABX9TyMA8AzETG0BUPzPj8Rr8cYQ",
      "include_colab_link": true
    },
    "kernelspec": {
      "name": "python3",
      "display_name": "Python 3"
    },
    "language_info": {
      "name": "python"
    }
  },
  "cells": [
    {
      "cell_type": "markdown",
      "metadata": {
        "id": "view-in-github",
        "colab_type": "text"
      },
      "source": [
        "<a href=\"https://colab.research.google.com/github/Saketkr06/Coursework/blob/main/OOps_Bank.ipynb\" target=\"_parent\"><img src=\"https://colab.research.google.com/assets/colab-badge.svg\" alt=\"Open In Colab\"/></a>"
      ]
    },
    {
      "cell_type": "code",
      "execution_count": 1,
      "metadata": {
        "id": "2-SIaxl41ANJ"
      },
      "outputs": [],
      "source": [
        "class BankAccount:\n",
        "  def __init__(self,account_number,account_holder_name,balance=0):\n",
        "    self.account_number=account_number\n",
        "    self.account_holder_name=account_holder_name\n",
        "    self.balance=balance\n",
        "\n",
        "  def deposits(self,amount):\n",
        "    self.balance += amount\n",
        "\n",
        "\n",
        "  def withdraw(self,amount):\n",
        "\n",
        "    if amount > self.balance:\n",
        "      print('Insufficient Balance')\n",
        "\n",
        "    else:\n",
        "      self.balance -= amount\n",
        "\n",
        "  def check_balance(self):\n",
        "\n",
        "    return self.balance\n",
        "\n"
      ]
    },
    {
      "cell_type": "code",
      "source": [
        "a=BankAccount(21453,'Saket',5000)"
      ],
      "metadata": {
        "id": "ooTlvZCA2w3L"
      },
      "execution_count": 2,
      "outputs": []
    },
    {
      "cell_type": "code",
      "source": [
        "a.deposits(300)"
      ],
      "metadata": {
        "id": "HqhTQkur26c5"
      },
      "execution_count": 3,
      "outputs": []
    },
    {
      "cell_type": "code",
      "source": [
        "a.withdraw(4500)"
      ],
      "metadata": {
        "id": "nXaqK2NF2_UU"
      },
      "execution_count": 4,
      "outputs": []
    },
    {
      "cell_type": "code",
      "source": [
        "a.check_balance()"
      ],
      "metadata": {
        "colab": {
          "base_uri": "https://localhost:8080/"
        },
        "id": "IsNl0huV3Eu6",
        "outputId": "4dac6e67-6c2a-4f60-ee63-f40d87e77c96"
      },
      "execution_count": 5,
      "outputs": [
        {
          "output_type": "execute_result",
          "data": {
            "text/plain": [
              "800"
            ]
          },
          "metadata": {},
          "execution_count": 5
        }
      ]
    },
    {
      "cell_type": "code",
      "source": [],
      "metadata": {
        "id": "6Saj-YaP3If6"
      },
      "execution_count": null,
      "outputs": []
    }
  ]
}