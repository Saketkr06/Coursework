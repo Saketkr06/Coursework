{
 "cells": [
  {
   "cell_type": "code",
   "execution_count": 1,
   "id": "cedc0a3a",
   "metadata": {},
   "outputs": [],
   "source": [
    "a=10"
   ]
  },
  {
   "cell_type": "code",
   "execution_count": 3,
   "id": "9de646a8",
   "metadata": {},
   "outputs": [
    {
     "data": {
      "text/plain": [
       "True"
      ]
     },
     "execution_count": 3,
     "metadata": {},
     "output_type": "execute_result"
    }
   ],
   "source": [
    "a<15"
   ]
  },
  {
   "cell_type": "code",
   "execution_count": 4,
   "id": "11529792",
   "metadata": {},
   "outputs": [],
   "source": [
    "if a<15:\n",
    "    pass #when i dont want do anything"
   ]
  },
  {
   "cell_type": "code",
   "execution_count": 5,
   "id": "56a87e72",
   "metadata": {},
   "outputs": [
    {
     "name": "stdout",
     "output_type": "stream",
     "text": [
      "Hey you haha\n"
     ]
    }
   ],
   "source": [
    "if a<15:\n",
    "    print(\"Hey you haha\")"
   ]
  },
  {
   "cell_type": "code",
   "execution_count": 6,
   "id": "61fa7ab1",
   "metadata": {},
   "outputs": [
    {
     "name": "stdout",
     "output_type": "stream",
     "text": [
      "Statement is wrong\n"
     ]
    }
   ],
   "source": [
    "if 10<3:\n",
    "    print(\"10 is lesser than 3\")\n",
    "else:\n",
    "    print(\"Statement is wrong\")"
   ]
  },
  {
   "cell_type": "code",
   "execution_count": 7,
   "id": "859fc9ca",
   "metadata": {},
   "outputs": [
    {
     "name": "stdout",
     "output_type": "stream",
     "text": [
      "earn more\n"
     ]
    }
   ],
   "source": [
    "income =100\n",
    "if income<50:\n",
    "    print(\"i will able to buy a phone\")\n",
    "else:\n",
    "    print(\"earn more\")"
   ]
  },
  {
   "cell_type": "code",
   "execution_count": 8,
   "id": "84874be7",
   "metadata": {},
   "outputs": [],
   "source": [
    "l=[1,4,5.6,4.7j,'sudh']"
   ]
  },
  {
   "cell_type": "code",
   "execution_count": 9,
   "id": "a86e4c7b",
   "metadata": {},
   "outputs": [
    {
     "name": "stdout",
     "output_type": "stream",
     "text": [
      "1 :<class 'int'>\n",
      "4 :<class 'int'>\n",
      "5.6 :<class 'float'>\n",
      "4.7j :<class 'complex'>\n",
      "sudh :<class 'str'>\n"
     ]
    }
   ],
   "source": [
    "for i in l:\n",
    "    print(f\"{i} :{type(i)}\")"
   ]
  },
  {
   "cell_type": "code",
   "execution_count": 11,
   "id": "9b3ce5d9",
   "metadata": {},
   "outputs": [],
   "source": [
    "l=[1,2,3,4,5,6]\n",
    "l1=[]\n",
    "for i in l:\n",
    "    l1.append(i+2)"
   ]
  },
  {
   "cell_type": "code",
   "execution_count": 12,
   "id": "0bf1b177",
   "metadata": {},
   "outputs": [
    {
     "data": {
      "text/plain": [
       "[3, 4, 5, 6, 7, 8]"
      ]
     },
     "execution_count": 12,
     "metadata": {},
     "output_type": "execute_result"
    }
   ],
   "source": [
    "l1"
   ]
  },
  {
   "cell_type": "code",
   "execution_count": 13,
   "id": "07765058",
   "metadata": {},
   "outputs": [],
   "source": [
    "# iterable object is something having any multiple no of elements"
   ]
  },
  {
   "cell_type": "code",
   "execution_count": 34,
   "id": "753cea62",
   "metadata": {},
   "outputs": [],
   "source": [
    "a=[2,45,78,12,'sudh',6+7j,[56,67,78,\"dsfdsf\"]]"
   ]
  },
  {
   "cell_type": "code",
   "execution_count": 35,
   "id": "41b4758e",
   "metadata": {},
   "outputs": [
    {
     "name": "stdout",
     "output_type": "stream",
     "text": [
      "0\n",
      "1\n",
      "2\n",
      "3\n",
      "4\n",
      "5\n",
      "6\n"
     ]
    }
   ],
   "source": [
    "for i in a:\n",
    "    print(a.index(i))"
   ]
  },
  {
   "cell_type": "code",
   "execution_count": 43,
   "id": "dc32f788",
   "metadata": {},
   "outputs": [
    {
     "data": {
      "text/plain": [
       "[2, 45, 78, 12, 'sudh', (6+7j), [56, 67, 78, 'dsfdsf']]"
      ]
     },
     "execution_count": 43,
     "metadata": {},
     "output_type": "execute_result"
    }
   ],
   "source": [
    "a"
   ]
  },
  {
   "cell_type": "code",
   "execution_count": 46,
   "id": "1761c887",
   "metadata": {},
   "outputs": [],
   "source": [
    "l1=[]\n",
    "for i in a:\n",
    "    if type(i)==str:\n",
    "        l1.append(i)\n",
    "    elif type(i)==list:\n",
    "        for j in i:\n",
    "            if type(j)==str:\n",
    "                l1.append(j)\n"
   ]
  },
  {
   "cell_type": "code",
   "execution_count": 47,
   "id": "a2e306df",
   "metadata": {},
   "outputs": [
    {
     "data": {
      "text/plain": [
       "['sudh', 'dsfdsf']"
      ]
     },
     "execution_count": 47,
     "metadata": {},
     "output_type": "execute_result"
    }
   ],
   "source": [
    "l1"
   ]
  },
  {
   "cell_type": "code",
   "execution_count": 48,
   "id": "db87381e",
   "metadata": {},
   "outputs": [],
   "source": [
    "k=[]\n",
    "for i in a:\n",
    "    if type(i)==int:#comparing type of character\n",
    "        c=i*i\n",
    "        k.append(c)\n",
    "        "
   ]
  },
  {
   "cell_type": "code",
   "execution_count": 49,
   "id": "4c019ade",
   "metadata": {},
   "outputs": [
    {
     "data": {
      "text/plain": [
       "[4, 2025, 6084, 144]"
      ]
     },
     "execution_count": 49,
     "metadata": {},
     "output_type": "execute_result"
    }
   ],
   "source": [
    "k"
   ]
  },
  {
   "cell_type": "code",
   "execution_count": 41,
   "id": "8dc3abd8",
   "metadata": {},
   "outputs": [
    {
     "name": "stdout",
     "output_type": "stream",
     "text": [
      "0 2\n",
      "1 45\n",
      "2 78\n",
      "3 12\n",
      "4 sudh\n",
      "5 (6+7j)\n",
      "6 [56, 67, 78, 'dsfdsf']\n"
     ]
    }
   ],
   "source": [
    "for i in range(len(a)):\n",
    "    print(i,a[i])"
   ]
  },
  {
   "cell_type": "code",
   "execution_count": 42,
   "id": "55211033",
   "metadata": {},
   "outputs": [
    {
     "name": "stdout",
     "output_type": "stream",
     "text": [
      "0 2\n",
      "1 45\n",
      "2 78\n",
      "3 12\n",
      "4 sudh\n",
      "5 (6+7j)\n",
      "6 [56, 67, 78, 'dsfdsf']\n"
     ]
    }
   ],
   "source": [
    "for i,j in enumerate(a):\n",
    "    print(i,j)"
   ]
  },
  {
   "cell_type": "code",
   "execution_count": 50,
   "id": "d88033a3",
   "metadata": {},
   "outputs": [
    {
     "data": {
      "text/plain": [
       "[2, 45, 78, 12, 'sudh', (6+7j), [56, 67, 78, 'dsfdsf']]"
      ]
     },
     "execution_count": 50,
     "metadata": {},
     "output_type": "execute_result"
    }
   ],
   "source": [
    "a"
   ]
  },
  {
   "cell_type": "code",
   "execution_count": 61,
   "id": "0c4ca230",
   "metadata": {},
   "outputs": [
    {
     "name": "stdout",
     "output_type": "stream",
     "text": [
      "['s', 'u', 'd', 'h']\n"
     ]
    }
   ],
   "source": [
    "for i in a:\n",
    "    e=[]\n",
    "   \n",
    "    if type(i)==str:\n",
    "        \n",
    "        for j in i:\n",
    "            e.append(j)\n",
    "        print(e)\n",
    "    \n",
    "        "
   ]
  },
  {
   "cell_type": "code",
   "execution_count": 59,
   "id": "73837fa1",
   "metadata": {},
   "outputs": [
    {
     "data": {
      "text/plain": [
       "[]"
      ]
     },
     "execution_count": 59,
     "metadata": {},
     "output_type": "execute_result"
    }
   ],
   "source": [
    "e"
   ]
  },
  {
   "cell_type": "code",
   "execution_count": 1,
   "id": "4d91a734",
   "metadata": {},
   "outputs": [],
   "source": [
    "l=['name','emailid','phone','address']"
   ]
  },
  {
   "cell_type": "code",
   "execution_count": 2,
   "id": "f5126892",
   "metadata": {},
   "outputs": [
    {
     "name": "stdout",
     "output_type": "stream",
     "text": [
      "name\n",
      "emailid\n",
      "phone\n",
      "address\n"
     ]
    }
   ],
   "source": [
    "for i in l:\n",
    "    print(i)"
   ]
  },
  {
   "cell_type": "code",
   "execution_count": 3,
   "id": "b31f8c7f",
   "metadata": {},
   "outputs": [
    {
     "name": "stdout",
     "output_type": "stream",
     "text": [
      "s\n",
      "a\n",
      "k\n",
      "e\n",
      "t\n",
      " \n",
      "k\n",
      "i\n",
      "m\n",
      "a\n",
      "r\n"
     ]
    }
   ],
   "source": [
    "s='saket kimar'\n",
    "for i in s:\n",
    "    print(i)"
   ]
  },
  {
   "cell_type": "code",
   "execution_count": 4,
   "id": "2f5829ac",
   "metadata": {},
   "outputs": [
    {
     "data": {
      "text/plain": [
       "['name', 'emailid', 'phone', 'address']"
      ]
     },
     "execution_count": 4,
     "metadata": {},
     "output_type": "execute_result"
    }
   ],
   "source": [
    "l"
   ]
  },
  {
   "cell_type": "markdown",
   "id": "2edebff5",
   "metadata": {},
   "source": [
    "\n",
    "# FOR-Else statement"
   ]
  },
  {
   "cell_type": "code",
   "execution_count": 6,
   "id": "4def1c84",
   "metadata": {
    "scrolled": true
   },
   "outputs": [
    {
     "name": "stdout",
     "output_type": "stream",
     "text": [
      "name\n",
      "emailid\n",
      "phone\n",
      "address\n",
      "if for loop is going to complete itself then it will come to else statement\n"
     ]
    }
   ],
   "source": [
    "for i in l:\n",
    "    print(i)\n",
    "else:\n",
    "    print(\"if for loop is going to complete itself then it will come to else statement\")"
   ]
  },
  {
   "cell_type": "code",
   "execution_count": 8,
   "id": "cb198e0b",
   "metadata": {},
   "outputs": [
    {
     "name": "stdout",
     "output_type": "stream",
     "text": [
      "name\n",
      "emailid\n"
     ]
    }
   ],
   "source": [
    "for i in l:\n",
    "    if i=='phone':\n",
    "        break\n",
    "    print(i)\n",
    "else:\n",
    "    print(\"check this statement\")"
   ]
  },
  {
   "cell_type": "code",
   "execution_count": 9,
   "id": "91471221",
   "metadata": {},
   "outputs": [],
   "source": [
    "#since here complete database has not been executed so else statement will not be executed"
   ]
  },
  {
   "cell_type": "code",
   "execution_count": 12,
   "id": "9b79a359",
   "metadata": {},
   "outputs": [
    {
     "name": "stdout",
     "output_type": "stream",
     "text": [
      "5\n"
     ]
    }
   ],
   "source": [
    "#while statement always going to check the statement is true or not else it will break the loop\n",
    "#its not in case of for loop and always remember to give condition in while loop ;\n",
    "a=5\n",
    "while a<6:\n",
    "    print(a)\n",
    "    a=a+1"
   ]
  },
  {
   "cell_type": "code",
   "execution_count": 13,
   "id": "f022bdb3",
   "metadata": {},
   "outputs": [
    {
     "name": "stdout",
     "output_type": "stream",
     "text": [
      "1\n",
      "2\n",
      "3\n",
      "4\n"
     ]
    }
   ],
   "source": [
    "a=1\n",
    "while a<5:\n",
    "    print(a)\n",
    "    if a==4:\n",
    "        break\n",
    "    a=a+1"
   ]
  },
  {
   "cell_type": "code",
   "execution_count": 14,
   "id": "5c915547",
   "metadata": {},
   "outputs": [
    {
     "name": "stdout",
     "output_type": "stream",
     "text": [
      "1\n",
      "2\n",
      "3\n",
      "4\n"
     ]
    }
   ],
   "source": [
    "a=1\n",
    "while a<5:\n",
    "    print(a)\n",
    "    a=a+1\n",
    "    if a==3:\n",
    "        continue"
   ]
  },
  {
   "cell_type": "code",
   "execution_count": 15,
   "id": "fe0c620d",
   "metadata": {},
   "outputs": [
    {
     "data": {
      "text/plain": [
       "[0, 1, 2, 3, 4, 5]"
      ]
     },
     "execution_count": 15,
     "metadata": {},
     "output_type": "execute_result"
    }
   ],
   "source": [
    "list(range(6))"
   ]
  },
  {
   "cell_type": "code",
   "execution_count": 17,
   "id": "cc9452ec",
   "metadata": {},
   "outputs": [
    {
     "data": {
      "text/plain": [
       "[4, 5, 6, 7, 8, 9]"
      ]
     },
     "execution_count": 17,
     "metadata": {},
     "output_type": "execute_result"
    }
   ],
   "source": [
    "list(range(4,10))"
   ]
  },
  {
   "cell_type": "code",
   "execution_count": 18,
   "id": "93a67aa8",
   "metadata": {},
   "outputs": [
    {
     "data": {
      "text/plain": [
       "[3,\n",
       " 5,\n",
       " 7,\n",
       " 9,\n",
       " 11,\n",
       " 13,\n",
       " 15,\n",
       " 17,\n",
       " 19,\n",
       " 21,\n",
       " 23,\n",
       " 25,\n",
       " 27,\n",
       " 29,\n",
       " 31,\n",
       " 33,\n",
       " 35,\n",
       " 37,\n",
       " 39,\n",
       " 41,\n",
       " 43,\n",
       " 45,\n",
       " 47,\n",
       " 49]"
      ]
     },
     "execution_count": 18,
     "metadata": {},
     "output_type": "execute_result"
    }
   ],
   "source": [
    "list(range(3,50,2))"
   ]
  },
  {
   "cell_type": "code",
   "execution_count": 19,
   "id": "63255bf3",
   "metadata": {},
   "outputs": [
    {
     "data": {
      "text/plain": [
       "[]"
      ]
     },
     "execution_count": 19,
     "metadata": {},
     "output_type": "execute_result"
    }
   ],
   "source": [
    "list(range(3,10,-1))"
   ]
  },
  {
   "cell_type": "code",
   "execution_count": 20,
   "id": "b6e64313",
   "metadata": {},
   "outputs": [
    {
     "data": {
      "text/plain": [
       "[10, 9, 8, 7]"
      ]
     },
     "execution_count": 20,
     "metadata": {},
     "output_type": "execute_result"
    }
   ],
   "source": [
    "list(range(10,6,-1))"
   ]
  },
  {
   "cell_type": "code",
   "execution_count": 21,
   "id": "59cb7879",
   "metadata": {},
   "outputs": [
    {
     "data": {
      "text/plain": [
       "[10, 8, 6, 4, 2, 0, -2, -4]"
      ]
     },
     "execution_count": 21,
     "metadata": {},
     "output_type": "execute_result"
    }
   ],
   "source": [
    "list(range(10,-5,-2))"
   ]
  },
  {
   "cell_type": "code",
   "execution_count": 24,
   "id": "69a4103a",
   "metadata": {},
   "outputs": [
    {
     "name": "stdout",
     "output_type": "stream",
     "text": [
      "*\n",
      "\n",
      "**\n",
      "\n",
      "***\n",
      "\n",
      "****\n",
      "\n",
      "*****\n",
      "\n"
     ]
    }
   ],
   "source": [
    "n=5\n",
    "for i in range(0,n):\n",
    "    for j in range(0,i+1):\n",
    "        print(\"*\",end=\"\")\n",
    "    print('\\r')"
   ]
  },
  {
   "cell_type": "code",
   "execution_count": 25,
   "id": "8d045344",
   "metadata": {},
   "outputs": [],
   "source": [
    "#\"/r\"meaning is here nothing getting new line without much space"
   ]
  },
  {
   "cell_type": "code",
   "execution_count": 26,
   "id": "0a61ad4b",
   "metadata": {},
   "outputs": [],
   "source": [
    "t=(3,4,4,5,6,7,7)"
   ]
  },
  {
   "cell_type": "code",
   "execution_count": 28,
   "id": "b265a6bc",
   "metadata": {},
   "outputs": [
    {
     "name": "stdout",
     "output_type": "stream",
     "text": [
      "3,4,4,5,6,7,7,"
     ]
    }
   ],
   "source": [
    "for i in t:\n",
    "    print(i,end=',')"
   ]
  },
  {
   "cell_type": "code",
   "execution_count": 30,
   "id": "954c02bb",
   "metadata": {},
   "outputs": [
    {
     "name": "stdout",
     "output_type": "stream",
     "text": [
      "0 3\n",
      "1 4\n",
      "2 4\n",
      "3 5\n",
      "4 6\n",
      "5 7\n",
      "6 7\n"
     ]
    }
   ],
   "source": [
    "for i in range(len(t)):\n",
    "    print(i,t[i])"
   ]
  },
  {
   "cell_type": "code",
   "execution_count": 31,
   "id": "fec2f96d",
   "metadata": {},
   "outputs": [
    {
     "data": {
      "text/plain": [
       "(3, 4, 4, 5, 6, 7, 7)"
      ]
     },
     "execution_count": 31,
     "metadata": {},
     "output_type": "execute_result"
    }
   ],
   "source": [
    "t"
   ]
  },
  {
   "cell_type": "code",
   "execution_count": 37,
   "id": "d2218193",
   "metadata": {},
   "outputs": [
    {
     "name": "stdout",
     "output_type": "stream",
     "text": [
      "7\n",
      "7\n",
      "6\n",
      "5\n",
      "4\n",
      "4\n",
      "3\n"
     ]
    }
   ],
   "source": [
    "for i in range(len(t)-1,-1,-1):#not len(t) just as index out of range\n",
    "    print(t[i])"
   ]
  },
  {
   "cell_type": "code",
   "execution_count": 38,
   "id": "62f2a7c4",
   "metadata": {},
   "outputs": [],
   "source": [
    "d={\"a\":'fsdsds','b':\"dsdw\",'c':\"{1,2,3,4,5}\",\"d\":(1,2,3,4),\"e\":\"saket\"}"
   ]
  },
  {
   "cell_type": "code",
   "execution_count": 39,
   "id": "5bc29975",
   "metadata": {},
   "outputs": [
    {
     "data": {
      "text/plain": [
       "(1, 2, 3, 4)"
      ]
     },
     "execution_count": 39,
     "metadata": {},
     "output_type": "execute_result"
    }
   ],
   "source": [
    "d['d']"
   ]
  },
  {
   "cell_type": "code",
   "execution_count": 40,
   "id": "0e20618d",
   "metadata": {},
   "outputs": [
    {
     "name": "stdout",
     "output_type": "stream",
     "text": [
      "a fsdsds\n",
      "b dsdw\n",
      "c {1,2,3,4,5}\n",
      "d (1, 2, 3, 4)\n",
      "e saket\n"
     ]
    }
   ],
   "source": [
    "for i in d:\n",
    "    print(i,d[i])"
   ]
  },
  {
   "cell_type": "code",
   "execution_count": 41,
   "id": "4bf08988",
   "metadata": {},
   "outputs": [
    {
     "data": {
      "text/plain": [
       "dict_items([('a', 'fsdsds'), ('b', 'dsdw'), ('c', '{1,2,3,4,5}'), ('d', (1, 2, 3, 4)), ('e', 'saket')])"
      ]
     },
     "execution_count": 41,
     "metadata": {},
     "output_type": "execute_result"
    }
   ],
   "source": [
    "d.items()"
   ]
  },
  {
   "cell_type": "code",
   "execution_count": 42,
   "id": "c21bc133",
   "metadata": {},
   "outputs": [
    {
     "name": "stdout",
     "output_type": "stream",
     "text": [
      "('a', 'fsdsds')\n",
      "('b', 'dsdw')\n",
      "('c', '{1,2,3,4,5}')\n",
      "('d', (1, 2, 3, 4))\n",
      "('e', 'saket')\n"
     ]
    }
   ],
   "source": [
    "for i in d.items():\n",
    "    print(i)"
   ]
  },
  {
   "cell_type": "code",
   "execution_count": 44,
   "id": "be417470",
   "metadata": {},
   "outputs": [],
   "source": [
    "s={3,2,4,52,2,4,5,5,3,2,2,5,3,7,45,2,32,4}"
   ]
  },
  {
   "cell_type": "code",
   "execution_count": 45,
   "id": "a78a98be",
   "metadata": {},
   "outputs": [
    {
     "data": {
      "text/plain": [
       "{2, 3, 4, 5, 7, 32, 45, 52}"
      ]
     },
     "execution_count": 45,
     "metadata": {},
     "output_type": "execute_result"
    }
   ],
   "source": [
    "s"
   ]
  },
  {
   "cell_type": "code",
   "execution_count": 46,
   "id": "979472cc",
   "metadata": {},
   "outputs": [
    {
     "name": "stdout",
     "output_type": "stream",
     "text": [
      "32\n",
      "2\n",
      "3\n",
      "4\n",
      "5\n",
      "7\n",
      "45\n",
      "52\n"
     ]
    }
   ],
   "source": [
    "for i in s:\n",
    "    print(i)"
   ]
  },
  {
   "cell_type": "code",
   "execution_count": null,
   "id": "0de6ef89",
   "metadata": {},
   "outputs": [],
   "source": []
  }
 ],
 "metadata": {
  "kernelspec": {
   "display_name": "Python 3 (ipykernel)",
   "language": "python",
   "name": "python3"
  },
  "language_info": {
   "codemirror_mode": {
    "name": "ipython",
    "version": 3
   },
   "file_extension": ".py",
   "mimetype": "text/x-python",
   "name": "python",
   "nbconvert_exporter": "python",
   "pygments_lexer": "ipython3",
   "version": "3.9.12"
  }
 },
 "nbformat": 4,
 "nbformat_minor": 5
}
