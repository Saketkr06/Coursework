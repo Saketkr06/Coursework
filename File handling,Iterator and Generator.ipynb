{
 "cells": [
  {
   "cell_type": "markdown",
   "id": "7ca1cd4a",
   "metadata": {},
   "source": [
    "File Handling"
   ]
  },
  {
   "cell_type": "code",
   "execution_count": 3,
   "id": "5cf83c85",
   "metadata": {},
   "outputs": [],
   "source": [
    "f=open(\"test1.txt\")#used to open files"
   ]
  },
  {
   "cell_type": "code",
   "execution_count": 4,
   "id": "b0004d1b",
   "metadata": {},
   "outputs": [
    {
     "data": {
      "text/plain": [
       "_io.TextIOWrapper"
      ]
     },
     "execution_count": 4,
     "metadata": {},
     "output_type": "execute_result"
    }
   ],
   "source": [
    "type(f)"
   ]
  },
  {
   "cell_type": "code",
   "execution_count": 5,
   "id": "b2f05a12",
   "metadata": {},
   "outputs": [],
   "source": [
    "f.close()"
   ]
  },
  {
   "cell_type": "code",
   "execution_count": 7,
   "id": "b2220be9",
   "metadata": {},
   "outputs": [],
   "source": [
    "#f=open(r\"file path\",'r') here r is raw and 2nd one r is a read mode"
   ]
  },
  {
   "cell_type": "code",
   "execution_count": 8,
   "id": "11f1170f",
   "metadata": {},
   "outputs": [],
   "source": [
    "#how to read a file"
   ]
  },
  {
   "cell_type": "code",
   "execution_count": 19,
   "id": "7c6b5d8b",
   "metadata": {},
   "outputs": [],
   "source": [
    "f=open('test1.txt')"
   ]
  },
  {
   "cell_type": "code",
   "execution_count": 16,
   "id": "27fcb8a6",
   "metadata": {},
   "outputs": [
    {
     "data": {
      "text/plain": [
       "'I write code\\nmy name is saket kumar\\ni am a student of iisc\\nin the department of management studies\\ni am learning data science program\\n'"
      ]
     },
     "execution_count": 16,
     "metadata": {},
     "output_type": "execute_result"
    }
   ],
   "source": [
    "f.read()"
   ]
  },
  {
   "cell_type": "code",
   "execution_count": 27,
   "id": "e8dce42c",
   "metadata": {},
   "outputs": [
    {
     "data": {
      "text/plain": [
       "'I write code\\nmy name is saket kumar\\ni am a student of iisc\\nin the department of management studies\\ni am learning data science program\\n'"
      ]
     },
     "execution_count": 27,
     "metadata": {},
     "output_type": "execute_result"
    }
   ],
   "source": [
    "f.read()"
   ]
  },
  {
   "cell_type": "code",
   "execution_count": 29,
   "id": "4ff59e3b",
   "metadata": {},
   "outputs": [
    {
     "data": {
      "text/plain": [
       "'I wr'"
      ]
     },
     "execution_count": 29,
     "metadata": {},
     "output_type": "execute_result"
    }
   ],
   "source": [
    "f.read(4)\n",
    "# this will read 4 data"
   ]
  },
  {
   "cell_type": "code",
   "execution_count": 23,
   "id": "89a1fcec",
   "metadata": {},
   "outputs": [
    {
     "data": {
      "text/plain": [
       "8"
      ]
     },
     "execution_count": 23,
     "metadata": {},
     "output_type": "execute_result"
    }
   ],
   "source": [
    "f.tell()#current file position"
   ]
  },
  {
   "cell_type": "code",
   "execution_count": 32,
   "id": "c49f1b19",
   "metadata": {},
   "outputs": [
    {
     "data": {
      "text/plain": [
       "0"
      ]
     },
     "execution_count": 32,
     "metadata": {},
     "output_type": "execute_result"
    }
   ],
   "source": [
    "f.seek(0)#take back the cursor with the argument"
   ]
  },
  {
   "cell_type": "code",
   "execution_count": 33,
   "id": "791e6e18",
   "metadata": {},
   "outputs": [
    {
     "data": {
      "text/plain": [
       "['I write code\\n']"
      ]
     },
     "execution_count": 33,
     "metadata": {},
     "output_type": "execute_result"
    }
   ],
   "source": [
    "f.readlines(2)"
   ]
  },
  {
   "cell_type": "code",
   "execution_count": 34,
   "id": "78f8005f",
   "metadata": {},
   "outputs": [],
   "source": [
    "try:\n",
    "    f=open(\"test1.txt\")\n",
    "finally:\n",
    "    f.close()"
   ]
  },
  {
   "cell_type": "code",
   "execution_count": 36,
   "id": "202a0e33",
   "metadata": {},
   "outputs": [],
   "source": [
    "with open(\"test1.txt\") as f:#used with statement as will perform operation it closes automatically\n",
    "    #file operation\n",
    "    f.read()\n",
    "    pass"
   ]
  },
  {
   "cell_type": "code",
   "execution_count": 37,
   "id": "9c7f8469",
   "metadata": {},
   "outputs": [
    {
     "name": "stdout",
     "output_type": "stream",
     "text": [
      "done\n"
     ]
    }
   ],
   "source": [
    "#write a file\n",
    "data=\"i live in purnea\"\n",
    "f=open(\"test1.txt\",'w')\n",
    "f.write(data)\n",
    "print('done')\n",
    "f.close()"
   ]
  },
  {
   "cell_type": "code",
   "execution_count": 38,
   "id": "abf2d5ea",
   "metadata": {},
   "outputs": [],
   "source": [
    "with open(\"test1.txt\",'w') as f:\n",
    "    f.write('first line \\n')\n",
    "    f.write('second line \\r')"
   ]
  },
  {
   "cell_type": "code",
   "execution_count": 43,
   "id": "21b85fe7",
   "metadata": {},
   "outputs": [
    {
     "name": "stdout",
     "output_type": "stream",
     "text": [
      "enter the first no :7\n",
      "enter the second no :0\n",
      "There is error in my code division by zero\n"
     ]
    }
   ],
   "source": [
    "try:\n",
    "    a=int(input(\"enter the first no :\"))\n",
    "    b=int(input(\"enter the second no :\"))\n",
    "    c=a/b\n",
    "except ArithmeticError as e:\n",
    "    print(\"There is error in my code\",e)\n",
    "    f=open(\"test1.txt\",'w+')#means reading and writing\n",
    "    f.write(\"hi\")\n",
    "    f.read()\n",
    "else:\n",
    "    print(\"this will execute when try is success\")\n",
    "    try:\n",
    "        f=open(\"test3.txt\",\"w\")\n",
    "    except:\n",
    "        print(\"there is issue with try block\")"
   ]
  },
  {
   "cell_type": "code",
   "execution_count": 44,
   "id": "870f42dd",
   "metadata": {},
   "outputs": [
    {
     "name": "stdout",
     "output_type": "stream",
     "text": [
      "File not found [Errno 2] No such file or directory: 'error.txt'\n"
     ]
    }
   ],
   "source": [
    "try:\n",
    "    f=open(\"error.txt\")\n",
    "except Exception as e:\n",
    "    print(\"File not found\",e)"
   ]
  },
  {
   "cell_type": "markdown",
   "id": "c6284458",
   "metadata": {},
   "source": [
    "## Iterable are obj that can be iterates in iterationI.e repeating certain block of codes"
   ]
  },
  {
   "cell_type": "code",
   "execution_count": 45,
   "id": "f0f38621",
   "metadata": {},
   "outputs": [],
   "source": [
    "#lists,tuple,sets"
   ]
  },
  {
   "cell_type": "code",
   "execution_count": 46,
   "id": "e076af12",
   "metadata": {},
   "outputs": [
    {
     "name": "stdout",
     "output_type": "stream",
     "text": [
      "ineuron\n",
      "saket\n",
      "fsds\n"
     ]
    }
   ],
   "source": [
    "mytuple=(\"ineuron\",'saket','fsds')\n",
    "for i in mytuple:\n",
    "    print(i)"
   ]
  },
  {
   "cell_type": "code",
   "execution_count": 47,
   "id": "c5ea7d31",
   "metadata": {},
   "outputs": [
    {
     "data": {
      "text/plain": [
       "['__add__',\n",
       " '__class__',\n",
       " '__class_getitem__',\n",
       " '__contains__',\n",
       " '__delattr__',\n",
       " '__dir__',\n",
       " '__doc__',\n",
       " '__eq__',\n",
       " '__format__',\n",
       " '__ge__',\n",
       " '__getattribute__',\n",
       " '__getitem__',\n",
       " '__getnewargs__',\n",
       " '__gt__',\n",
       " '__hash__',\n",
       " '__init__',\n",
       " '__init_subclass__',\n",
       " '__iter__',\n",
       " '__le__',\n",
       " '__len__',\n",
       " '__lt__',\n",
       " '__mul__',\n",
       " '__ne__',\n",
       " '__new__',\n",
       " '__reduce__',\n",
       " '__reduce_ex__',\n",
       " '__repr__',\n",
       " '__rmul__',\n",
       " '__setattr__',\n",
       " '__sizeof__',\n",
       " '__str__',\n",
       " '__subclasshook__',\n",
       " 'count',\n",
       " 'index']"
      ]
     },
     "execution_count": 47,
     "metadata": {},
     "output_type": "execute_result"
    }
   ],
   "source": [
    "dir(mytuple)"
   ]
  },
  {
   "cell_type": "code",
   "execution_count": 49,
   "id": "1a593707",
   "metadata": {},
   "outputs": [],
   "source": [
    "mystr=\"saket\"\n",
    "#also iterable lists also"
   ]
  },
  {
   "cell_type": "code",
   "execution_count": 50,
   "id": "06319243",
   "metadata": {},
   "outputs": [],
   "source": [
    "d={\"x\":34,\"y\":\"saket\",\"z\":\"daku\"}"
   ]
  },
  {
   "cell_type": "code",
   "execution_count": 51,
   "id": "d0f26157",
   "metadata": {},
   "outputs": [
    {
     "name": "stdout",
     "output_type": "stream",
     "text": [
      "x 34\n",
      "y saket\n",
      "z daku\n"
     ]
    }
   ],
   "source": [
    "for k,v  in d.items():\n",
    "    print(k,v)"
   ]
  },
  {
   "cell_type": "code",
   "execution_count": 52,
   "id": "3ccff512",
   "metadata": {},
   "outputs": [],
   "source": [
    "data=[\"ineuron\",'saket','fsds']\n",
    "#now making this iterable object as iterator"
   ]
  },
  {
   "cell_type": "code",
   "execution_count": 53,
   "id": "ae8fa863",
   "metadata": {},
   "outputs": [
    {
     "ename": "TypeError",
     "evalue": "'list' object is not an iterator",
     "output_type": "error",
     "traceback": [
      "\u001b[1;31m---------------------------------------------------------------------------\u001b[0m",
      "\u001b[1;31mTypeError\u001b[0m                                 Traceback (most recent call last)",
      "Input \u001b[1;32mIn [53]\u001b[0m, in \u001b[0;36m<cell line: 1>\u001b[1;34m()\u001b[0m\n\u001b[1;32m----> 1\u001b[0m \u001b[38;5;28;43mnext\u001b[39;49m\u001b[43m(\u001b[49m\u001b[43mdata\u001b[49m\u001b[43m)\u001b[49m\n",
      "\u001b[1;31mTypeError\u001b[0m: 'list' object is not an iterator"
     ]
    }
   ],
   "source": [
    "next(data)"
   ]
  },
  {
   "cell_type": "code",
   "execution_count": 55,
   "id": "29b004a7",
   "metadata": {},
   "outputs": [],
   "source": [
    "#now converting by passing iterable object iter\n",
    "x=iter(data)"
   ]
  },
  {
   "cell_type": "code",
   "execution_count": 56,
   "id": "1dcedcd4",
   "metadata": {},
   "outputs": [
    {
     "data": {
      "text/plain": [
       "list_iterator"
      ]
     },
     "execution_count": 56,
     "metadata": {},
     "output_type": "execute_result"
    }
   ],
   "source": [
    "type(x)#"
   ]
  },
  {
   "cell_type": "code",
   "execution_count": 57,
   "id": "d83ae8ff",
   "metadata": {},
   "outputs": [
    {
     "data": {
      "text/plain": [
       "'ineuron'"
      ]
     },
     "execution_count": 57,
     "metadata": {},
     "output_type": "execute_result"
    }
   ],
   "source": [
    "next(x)"
   ]
  },
  {
   "cell_type": "code",
   "execution_count": 58,
   "id": "b2ed9f0c",
   "metadata": {},
   "outputs": [
    {
     "data": {
      "text/plain": [
       "'saket'"
      ]
     },
     "execution_count": 58,
     "metadata": {},
     "output_type": "execute_result"
    }
   ],
   "source": [
    "next(x)"
   ]
  },
  {
   "cell_type": "code",
   "execution_count": 59,
   "id": "b64adef2",
   "metadata": {},
   "outputs": [
    {
     "data": {
      "text/plain": [
       "'fsds'"
      ]
     },
     "execution_count": 59,
     "metadata": {},
     "output_type": "execute_result"
    }
   ],
   "source": [
    "next(x)"
   ]
  },
  {
   "cell_type": "raw",
   "id": "548ba167",
   "metadata": {},
   "source": [
    "next(x) #again reload data"
   ]
  },
  {
   "cell_type": "code",
   "execution_count": 61,
   "id": "90252d48",
   "metadata": {},
   "outputs": [],
   "source": [
    "m=\"saketkumar\""
   ]
  },
  {
   "cell_type": "code",
   "execution_count": 64,
   "id": "023fd78f",
   "metadata": {},
   "outputs": [],
   "source": [
    "y=iter(m)"
   ]
  },
  {
   "cell_type": "code",
   "execution_count": 65,
   "id": "f4e955fc",
   "metadata": {},
   "outputs": [
    {
     "data": {
      "text/plain": [
       "'s'"
      ]
     },
     "execution_count": 65,
     "metadata": {},
     "output_type": "execute_result"
    }
   ],
   "source": [
    "next(y)"
   ]
  },
  {
   "cell_type": "markdown",
   "id": "db62cedd",
   "metadata": {},
   "source": [
    "for iterable we have __iter___\n",
    "while for iterator we have __iter__ as well as __next___"
   ]
  },
  {
   "cell_type": "code",
   "execution_count": 67,
   "id": "651a3fbf",
   "metadata": {},
   "outputs": [],
   "source": [
    "#iterator means remembring position of data"
   ]
  },
  {
   "cell_type": "markdown",
   "id": "e2eb09f7",
   "metadata": {},
   "source": [
    "iterables are not iterators\n",
    "iterators are iterable"
   ]
  },
  {
   "cell_type": "markdown",
   "id": "00b8f7d9",
   "metadata": {},
   "source": [
    "## Generator"
   ]
  },
  {
   "cell_type": "markdown",
   "id": "bb936a61",
   "metadata": {},
   "source": [
    "It is the other way of creating iterators"
   ]
  },
  {
   "cell_type": "code",
   "execution_count": 68,
   "id": "7f5d460a",
   "metadata": {},
   "outputs": [],
   "source": [
    "def square(n):\n",
    "    for i in range(n):\n",
    "        return i**2"
   ]
  },
  {
   "cell_type": "code",
   "execution_count": 69,
   "id": "37aacfd4",
   "metadata": {},
   "outputs": [
    {
     "data": {
      "text/plain": [
       "0"
      ]
     },
     "execution_count": 69,
     "metadata": {},
     "output_type": "execute_result"
    }
   ],
   "source": [
    "square(3)"
   ]
  },
  {
   "cell_type": "code",
   "execution_count": 108,
   "id": "db5d7062",
   "metadata": {},
   "outputs": [],
   "source": [
    "def square(n):\n",
    "    for i in range(n):\n",
    "        yield i**2\n",
    "#yield is fn to create generator object which can be accesed by next or for loop "
   ]
  },
  {
   "cell_type": "code",
   "execution_count": 100,
   "id": "5c8c47e2",
   "metadata": {},
   "outputs": [],
   "source": [
    "k=square(3)"
   ]
  },
  {
   "cell_type": "code",
   "execution_count": 87,
   "id": "8e5018b3",
   "metadata": {},
   "outputs": [
    {
     "data": {
      "text/plain": [
       "generator"
      ]
     },
     "execution_count": 87,
     "metadata": {},
     "output_type": "execute_result"
    }
   ],
   "source": [
    "type(k)"
   ]
  },
  {
   "cell_type": "code",
   "execution_count": 101,
   "id": "3d1b8ef2",
   "metadata": {},
   "outputs": [
    {
     "data": {
      "text/plain": [
       "0"
      ]
     },
     "execution_count": 101,
     "metadata": {},
     "output_type": "execute_result"
    }
   ],
   "source": [
    "next(k)"
   ]
  },
  {
   "cell_type": "code",
   "execution_count": 92,
   "id": "80309621",
   "metadata": {},
   "outputs": [
    {
     "name": "stdout",
     "output_type": "stream",
     "text": [
      "14"
     ]
    }
   ],
   "source": [
    "for i in k:\n",
    "    print(i,end=\"\")"
   ]
  },
  {
   "cell_type": "code",
   "execution_count": 93,
   "id": "0ff06654",
   "metadata": {},
   "outputs": [
    {
     "name": "stdout",
     "output_type": "stream",
     "text": [
      "<generator object square at 0x0000017E0AA1CAC0>\n"
     ]
    }
   ],
   "source": [
    "print(k)"
   ]
  },
  {
   "cell_type": "code",
   "execution_count": 97,
   "id": "08be8ce1",
   "metadata": {},
   "outputs": [
    {
     "name": "stdout",
     "output_type": "stream",
     "text": [
      "0\n",
      "1\n",
      "4\n"
     ]
    }
   ],
   "source": [
    "for i in k:\n",
    "    print(i)"
   ]
  },
  {
   "cell_type": "code",
   "execution_count": 102,
   "id": "e4daa9a3",
   "metadata": {},
   "outputs": [],
   "source": [
    "def new():\n",
    "    n=1\n",
    "    print(\"line one\")\n",
    "    yield n\n",
    "    \n",
    "    n=n+1\n",
    "    print(\"second line\")\n",
    "    yield n\n",
    "    \n",
    "    n=n+1\n",
    "    print(\"Third line\")\n",
    "    yield n"
   ]
  },
  {
   "cell_type": "code",
   "execution_count": 103,
   "id": "592ece9e",
   "metadata": {},
   "outputs": [
    {
     "name": "stdout",
     "output_type": "stream",
     "text": [
      "line one\n",
      "1\n",
      "second line\n",
      "2\n",
      "Third line\n",
      "3\n"
     ]
    }
   ],
   "source": [
    "for i in new():\n",
    "    print(i)"
   ]
  },
  {
   "cell_type": "code",
   "execution_count": 104,
   "id": "a42ca0ec",
   "metadata": {},
   "outputs": [
    {
     "data": {
      "text/plain": [
       "<generator object new at 0x0000017E0AAA7660>"
      ]
     },
     "execution_count": 104,
     "metadata": {},
     "output_type": "execute_result"
    }
   ],
   "source": [
    "k=new()"
   ]
  },
  {
   "cell_type": "code",
   "execution_count": 105,
   "id": "4d6e4557",
   "metadata": {},
   "outputs": [
    {
     "data": {
      "text/plain": [
       "1"
      ]
     },
     "execution_count": 105,
     "metadata": {},
     "output_type": "execute_result"
    }
   ],
   "source": [
    "next(k)"
   ]
  },
  {
   "cell_type": "code",
   "execution_count": 106,
   "id": "987b8dbd",
   "metadata": {},
   "outputs": [],
   "source": [
    "#to save memory during execution"
   ]
  },
  {
   "cell_type": "code",
   "execution_count": 107,
   "id": "44c6115b",
   "metadata": {},
   "outputs": [],
   "source": [
    "#next fn lazily produces next value"
   ]
  },
  {
   "cell_type": "code",
   "execution_count": 109,
   "id": "bef87798",
   "metadata": {},
   "outputs": [],
   "source": [
    "def gencube(n):\n",
    "    l=[]\n",
    "    for i in range(n):\n",
    "        l.append(i**3)\n",
    "    return l"
   ]
  },
  {
   "cell_type": "code",
   "execution_count": 111,
   "id": "00e8bb2a",
   "metadata": {},
   "outputs": [
    {
     "data": {
      "text/plain": [
       "39996000100000000"
      ]
     },
     "execution_count": 111,
     "metadata": {},
     "output_type": "execute_result"
    }
   ],
   "source": [
    "sum(gencube(20000))"
   ]
  },
  {
   "cell_type": "code",
   "execution_count": 123,
   "id": "7cdc4881",
   "metadata": {},
   "outputs": [],
   "source": [
    "#above fn will take time to generate,for large datasets and manipulate data we will see instant changes"
   ]
  },
  {
   "cell_type": "code",
   "execution_count": 119,
   "id": "5bf61dae",
   "metadata": {},
   "outputs": [],
   "source": [
    "def gencube(n):\n",
    "    for i in range(n):\n",
    "         yield i**3"
   ]
  },
  {
   "cell_type": "code",
   "execution_count": 120,
   "id": "5c2eaf22",
   "metadata": {},
   "outputs": [],
   "source": [
    "k=gencube(10)"
   ]
  },
  {
   "cell_type": "code",
   "execution_count": 121,
   "id": "c78910f8",
   "metadata": {},
   "outputs": [
    {
     "data": {
      "text/plain": [
       "generator"
      ]
     },
     "execution_count": 121,
     "metadata": {},
     "output_type": "execute_result"
    }
   ],
   "source": [
    "type(k)"
   ]
  },
  {
   "cell_type": "code",
   "execution_count": 117,
   "id": "747f282a",
   "metadata": {},
   "outputs": [
    {
     "name": "stdout",
     "output_type": "stream",
     "text": [
      "0\n",
      "1\n",
      "8\n",
      "27\n",
      "64\n",
      "125\n",
      "216\n",
      "343\n",
      "512\n",
      "729\n"
     ]
    }
   ],
   "source": [
    "for i in k:\n",
    "    print(i)"
   ]
  },
  {
   "cell_type": "code",
   "execution_count": 122,
   "id": "1dad389b",
   "metadata": {},
   "outputs": [
    {
     "data": {
      "text/plain": [
       "0"
      ]
     },
     "execution_count": 122,
     "metadata": {},
     "output_type": "execute_result"
    }
   ],
   "source": [
    "next(k)"
   ]
  },
  {
   "cell_type": "code",
   "execution_count": 129,
   "id": "388dc570",
   "metadata": {},
   "outputs": [],
   "source": [
    "nums=[1,2,3]"
   ]
  },
  {
   "cell_type": "code",
   "execution_count": 130,
   "id": "814ccc73",
   "metadata": {},
   "outputs": [],
   "source": [
    "i_nums=iter(nums)"
   ]
  },
  {
   "cell_type": "code",
   "execution_count": 126,
   "id": "20935475",
   "metadata": {},
   "outputs": [
    {
     "name": "stdout",
     "output_type": "stream",
     "text": [
      "1\n",
      "2\n",
      "3\n"
     ]
    }
   ],
   "source": [
    "for i in i_nums:\n",
    "    print(i)"
   ]
  },
  {
   "cell_type": "code",
   "execution_count": 131,
   "id": "974dd522",
   "metadata": {},
   "outputs": [
    {
     "name": "stdout",
     "output_type": "stream",
     "text": [
      "1\n",
      "2\n",
      "3\n",
      "out of bound\n"
     ]
    }
   ],
   "source": [
    "while True:\n",
    "    try:\n",
    "        item=next(i_nums)\n",
    "        print(item)\n",
    "    except StopIteration:\n",
    "        print(\"out of bound\")\n",
    "        break"
   ]
  },
  {
   "cell_type": "code",
   "execution_count": null,
   "id": "c997c157",
   "metadata": {},
   "outputs": [],
   "source": []
  }
 ],
 "metadata": {
  "kernelspec": {
   "display_name": "Python 3 (ipykernel)",
   "language": "python",
   "name": "python3"
  },
  "language_info": {
   "codemirror_mode": {
    "name": "ipython",
    "version": 3
   },
   "file_extension": ".py",
   "mimetype": "text/x-python",
   "name": "python",
   "nbconvert_exporter": "python",
   "pygments_lexer": "ipython3",
   "version": "3.9.12"
  }
 },
 "nbformat": 4,
 "nbformat_minor": 5
}
