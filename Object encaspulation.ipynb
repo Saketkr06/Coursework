{
 "cells": [
  {
   "cell_type": "code",
   "execution_count": 2,
   "id": "18400f20",
   "metadata": {},
   "outputs": [],
   "source": [
    "class Car:\n",
    "    pass"
   ]
  },
  {
   "cell_type": "code",
   "execution_count": 3,
   "id": "8093fbbc",
   "metadata": {},
   "outputs": [],
   "source": [
    "audi=Car()"
   ]
  },
  {
   "cell_type": "code",
   "execution_count": 4,
   "id": "99eec865",
   "metadata": {},
   "outputs": [],
   "source": [
    "audi.mileage=10\n",
    "audi.year=2006\n",
    "audi.make=243\n",
    "audi.model=\"sdf\""
   ]
  },
  {
   "cell_type": "code",
   "execution_count": 5,
   "id": "c6a3cf55",
   "metadata": {},
   "outputs": [
    {
     "data": {
      "text/plain": [
       "10"
      ]
     },
     "execution_count": 5,
     "metadata": {},
     "output_type": "execute_result"
    }
   ],
   "source": [
    "audi.mileage"
   ]
  },
  {
   "cell_type": "code",
   "execution_count": 6,
   "id": "e67a6e12",
   "metadata": {},
   "outputs": [],
   "source": [
    "nano=Car()"
   ]
  },
  {
   "cell_type": "code",
   "execution_count": null,
   "id": "1be010ef",
   "metadata": {},
   "outputs": [],
   "source": []
  },
  {
   "cell_type": "code",
   "execution_count": 7,
   "id": "a82da97f",
   "metadata": {},
   "outputs": [],
   "source": [
    "nano.mileage=67\n",
    "nano.year=2007\n",
    "nano.make=234"
   ]
  },
  {
   "cell_type": "code",
   "execution_count": 8,
   "id": "ca961684",
   "metadata": {},
   "outputs": [],
   "source": [
    "class Car:\n",
    "    def __init__(self,milage,year,make,model):\n",
    "        self.milage=milage\n",
    "        self.year=year\n",
    "        self.make=make\n",
    "        self.model=model"
   ]
  },
  {
   "cell_type": "code",
   "execution_count": 11,
   "id": "c8ecbbec",
   "metadata": {},
   "outputs": [],
   "source": [
    "nano1=Car(23,2006,456,\"xlx\")\n",
    "nano2=Car(23,2006,456,\"xEx\")"
   ]
  },
  {
   "cell_type": "code",
   "execution_count": 13,
   "id": "d6063de2",
   "metadata": {},
   "outputs": [
    {
     "data": {
      "text/plain": [
       "23"
      ]
     },
     "execution_count": 13,
     "metadata": {},
     "output_type": "execute_result"
    }
   ],
   "source": [
    "nano1.milage"
   ]
  },
  {
   "cell_type": "code",
   "execution_count": 29,
   "id": "7e63fafd",
   "metadata": {},
   "outputs": [],
   "source": [
    "class Car:\n",
    "    def __init__(self,milage,year,make,model):\n",
    "        self.milage=milage\n",
    "        self.year=year\n",
    "        self.make=make\n",
    "        self.model=model\n",
    "    def age(self,current_year):\n",
    "        return current_year-self.year\n",
    "    def milage1(self):\n",
    "        return \"Milage of car is\",self.milage\n",
    "    def __str__(self):\n",
    "        return \"This is class i have created\""
   ]
  },
  {
   "cell_type": "code",
   "execution_count": 30,
   "id": "63f2f1e4",
   "metadata": {},
   "outputs": [],
   "source": [
    "nano23=Car(10,2009,345,\"zx\")"
   ]
  },
  {
   "cell_type": "code",
   "execution_count": 31,
   "id": "043faae8",
   "metadata": {},
   "outputs": [
    {
     "data": {
      "text/plain": [
       "6"
      ]
     },
     "execution_count": 31,
     "metadata": {},
     "output_type": "execute_result"
    }
   ],
   "source": [
    "nano23.age(2015)"
   ]
  },
  {
   "cell_type": "code",
   "execution_count": 28,
   "id": "820eda3f",
   "metadata": {},
   "outputs": [
    {
     "data": {
      "text/plain": [
       "('Milage of car is', 10)"
      ]
     },
     "execution_count": 28,
     "metadata": {},
     "output_type": "execute_result"
    }
   ],
   "source": [
    "nano23.milage1()"
   ]
  },
  {
   "cell_type": "code",
   "execution_count": 33,
   "id": "955f8336",
   "metadata": {},
   "outputs": [
    {
     "name": "stdout",
     "output_type": "stream",
     "text": [
      "This is class i have created\n"
     ]
    }
   ],
   "source": [
    "print(nano23)"
   ]
  },
  {
   "cell_type": "code",
   "execution_count": 34,
   "id": "97aa0f76",
   "metadata": {},
   "outputs": [],
   "source": [
    "class Person:\n",
    "    def __init__(self,first_name,last_name,age):\n",
    "        self.first_name=first_name\n",
    "        self.last_name=last_name\n",
    "        self.age=age\n",
    "    def __str__(self):\n",
    "        return \"This is the person of the classs\""
   ]
  },
  {
   "cell_type": "code",
   "execution_count": 36,
   "id": "3f614536",
   "metadata": {},
   "outputs": [],
   "source": [
    "p1=Person('sak','kr',23)"
   ]
  },
  {
   "cell_type": "code",
   "execution_count": 37,
   "id": "38e13c77",
   "metadata": {},
   "outputs": [
    {
     "name": "stdout",
     "output_type": "stream",
     "text": [
      "This is the person of the classs\n"
     ]
    }
   ],
   "source": [
    "print(p1)"
   ]
  },
  {
   "cell_type": "code",
   "execution_count": 42,
   "id": "0b574c74",
   "metadata": {},
   "outputs": [],
   "source": [
    "class Student:\n",
    "    def __init__(self,name,roll,date,current_topic):\n",
    "        self.name=name\n",
    "        self.roll=roll\n",
    "        self.date=date\n",
    "        self.current_topic=current_topic\n",
    "    def cur_topic(self):\n",
    "        print(\"This is the topic going on\",self.current_topic)\n",
    "    def str_roll(self):\n",
    "        try:\n",
    "            if type(self.roll)==str:\n",
    "                print(\"do nothing\")\n",
    "            else:\n",
    "                return(self.roll)\n",
    "        except Exception as e:\n",
    "            print(\"This is my error msg\",e)\n",
    "    def duration(self,current_date):\n",
    "        print(\"duration of my class is\",current_date-self.date)\n",
    "    def __str__(self):\n",
    "        return \"this is a student class\"\n",
    "    "
   ]
  },
  {
   "cell_type": "code",
   "execution_count": 43,
   "id": "7cc8da1a",
   "metadata": {},
   "outputs": [],
   "source": [
    "s1=Student(\"saket\",23,2007,\"Data Science\")"
   ]
  },
  {
   "cell_type": "code",
   "execution_count": 44,
   "id": "2b6f97a3",
   "metadata": {},
   "outputs": [
    {
     "name": "stdout",
     "output_type": "stream",
     "text": [
      "This is the topic going on Data Science\n"
     ]
    }
   ],
   "source": [
    "s1.cur_topic()"
   ]
  },
  {
   "cell_type": "code",
   "execution_count": 45,
   "id": "693e3d6e",
   "metadata": {},
   "outputs": [
    {
     "name": "stdout",
     "output_type": "stream",
     "text": [
      "duration of my class is 12\n"
     ]
    }
   ],
   "source": [
    "s1.duration(2019)"
   ]
  },
  {
   "cell_type": "code",
   "execution_count": 46,
   "id": "2a1cf594",
   "metadata": {},
   "outputs": [],
   "source": [
    "class Student:\n",
    "    def who(self):\n",
    "        print(\"I am a student\")"
   ]
  },
  {
   "cell_type": "code",
   "execution_count": 47,
   "id": "1a4c79b1",
   "metadata": {},
   "outputs": [],
   "source": [
    "s1=Student()"
   ]
  },
  {
   "cell_type": "code",
   "execution_count": 49,
   "id": "9b46eca9",
   "metadata": {},
   "outputs": [
    {
     "name": "stdout",
     "output_type": "stream",
     "text": [
      "I am a student\n"
     ]
    }
   ],
   "source": [
    "s1.who()"
   ]
  },
  {
   "cell_type": "code",
   "execution_count": 51,
   "id": "84c13f00",
   "metadata": {},
   "outputs": [],
   "source": [
    "class Company:\n",
    "    def __init__(self):\n",
    "        self.name=\"ineuron\"\n",
    "        self.address=\"Bangalore\"\n",
    "    def show(self):\n",
    "        print(\"name\",self.name,\"address\",self.address)"
   ]
  },
  {
   "cell_type": "code",
   "execution_count": 52,
   "id": "61a57f70",
   "metadata": {},
   "outputs": [],
   "source": [
    "c=Company()"
   ]
  },
  {
   "cell_type": "code",
   "execution_count": 53,
   "id": "e30fd447",
   "metadata": {},
   "outputs": [
    {
     "name": "stdout",
     "output_type": "stream",
     "text": [
      "name ineuron address Bangalore\n"
     ]
    }
   ],
   "source": [
    "c.show()"
   ]
  },
  {
   "cell_type": "code",
   "execution_count": 62,
   "id": "7ff78b46",
   "metadata": {},
   "outputs": [],
   "source": [
    "class Pub_mod:\n",
    "    def __init__(self,name,age):\n",
    "        self._name=name\n",
    "        self.age=age\n",
    "    def age1(self):\n",
    "        print(\"age\",self.age)\n",
    "    "
   ]
  },
  {
   "cell_type": "code",
   "execution_count": 63,
   "id": "3925a057",
   "metadata": {},
   "outputs": [],
   "source": [
    "c1=Pub_mod(\"saket\",24)"
   ]
  },
  {
   "cell_type": "code",
   "execution_count": 64,
   "id": "b99bc28b",
   "metadata": {},
   "outputs": [
    {
     "name": "stdout",
     "output_type": "stream",
     "text": [
      "age 24\n"
     ]
    }
   ],
   "source": [
    "c1.age1()"
   ]
  },
  {
   "cell_type": "code",
   "execution_count": 67,
   "id": "c4679cad",
   "metadata": {},
   "outputs": [],
   "source": [
    "#self._name=Protected\n",
    "#self.__name=Private\n",
    "#encapsulation is a grouping of attributes,modifier concept"
   ]
  },
  {
   "cell_type": "code",
   "execution_count": 68,
   "id": "9e142186",
   "metadata": {},
   "outputs": [],
   "source": [
    "class Rectangle:\n",
    "    __length=0\n",
    "    __breadth=0\n",
    "    def __init__(self):\n",
    "        self.__length=5\n",
    "        self.__breadth=3\n",
    "        \n",
    "        print(self.__length)\n",
    "        print(self.__breadth)\n",
    "        "
   ]
  },
  {
   "cell_type": "code",
   "execution_count": 69,
   "id": "f5ba6ac3",
   "metadata": {},
   "outputs": [
    {
     "name": "stdout",
     "output_type": "stream",
     "text": [
      "5\n",
      "3\n"
     ]
    }
   ],
   "source": [
    "r1=Rectangle()"
   ]
  },
  {
   "cell_type": "code",
   "execution_count": 71,
   "id": "16a76239",
   "metadata": {},
   "outputs": [],
   "source": [
    "class Test:\n",
    "    def __init__(self):\n",
    "        self.a=6\n",
    "        self._b=5\n",
    "        self.__c=8\n",
    "        \n",
    "        print(\"Public\",self.a,\"Private\",self.__c,\"Protected\",self._b)\n",
    "        \n",
    "        \n",
    "        "
   ]
  },
  {
   "cell_type": "code",
   "execution_count": 72,
   "id": "de0c0068",
   "metadata": {},
   "outputs": [
    {
     "name": "stdout",
     "output_type": "stream",
     "text": [
      "Public 6 Private 8 Protected 5\n"
     ]
    }
   ],
   "source": [
    "t1=Test()"
   ]
  },
  {
   "cell_type": "code",
   "execution_count": 73,
   "id": "f02d6a77",
   "metadata": {},
   "outputs": [],
   "source": [
    "class Test:\n",
    "    def __init__(self):\n",
    "        self.a=6\n",
    "        self._b=5\n",
    "        self.__c=8\n",
    "        \n",
    "        print(\"Public\",self.a,\"Private\",self.__c,\"Protected\",self._b)\n",
    "        \n",
    "    def show(self):\n",
    "        print(\"Private\",self.__c,\"Protected\",self._b)\n",
    "        \n",
    "        \n",
    "        "
   ]
  },
  {
   "cell_type": "code",
   "execution_count": 74,
   "id": "1f49f170",
   "metadata": {},
   "outputs": [
    {
     "name": "stdout",
     "output_type": "stream",
     "text": [
      "Public 6 Private 8 Protected 5\n"
     ]
    }
   ],
   "source": [
    "t2=Test()"
   ]
  },
  {
   "cell_type": "code",
   "execution_count": 75,
   "id": "7e7977b9",
   "metadata": {},
   "outputs": [
    {
     "name": "stdout",
     "output_type": "stream",
     "text": [
      "Private 8 Protected 5\n"
     ]
    }
   ],
   "source": [
    "t2.show()"
   ]
  },
  {
   "cell_type": "code",
   "execution_count": 78,
   "id": "db83e26c",
   "metadata": {},
   "outputs": [
    {
     "data": {
      "text/plain": [
       "8"
      ]
     },
     "execution_count": 78,
     "metadata": {},
     "output_type": "execute_result"
    }
   ],
   "source": [
    "t2._Test__c#for private name"
   ]
  },
  {
   "cell_type": "code",
   "execution_count": 79,
   "id": "c7cf43d8",
   "metadata": {},
   "outputs": [
    {
     "data": {
      "text/plain": [
       "5"
      ]
     },
     "execution_count": 79,
     "metadata": {},
     "output_type": "execute_result"
    }
   ],
   "source": [
    "t2._b#for protected use"
   ]
  },
  {
   "cell_type": "code",
   "execution_count": 80,
   "id": "3249b6fa",
   "metadata": {},
   "outputs": [],
   "source": [
    "#benefits are data hiding,classes can work independently"
   ]
  },
  {
   "cell_type": "code",
   "execution_count": 84,
   "id": "6eed6634",
   "metadata": {},
   "outputs": [],
   "source": [
    "class Tyres:\n",
    "    def __init__(self,branch,belted_bias,opt_pressure):\n",
    "        self.branch=branch\n",
    "        self.belted_bias=belted_bias\n",
    "        self.opt_pressure=opt_pressure\n",
    "        \n",
    "    def __str__(self):\n",
    "        return (\"Tyres: \\n \\tBranch\" + self.branch +\n",
    "               \"\\n \\t Belted-bias\" + str(self.belted_bias) +\n",
    "               \"\\n \\t optimal pressure\" + str(self.opt_pressure))\n",
    "    \n",
    "    \n",
    "    \n",
    "    \n",
    "class Engine:\n",
    "    def __init__(self,fuel_type,noise_level):\n",
    "        self.fuel_type=fuel_type\n",
    "        self.noise_level=noise_level\n",
    "        \n",
    "    def __str__(self):\n",
    "        return (\"Engine: \\n \\tFuel type\" + self.fuel_type +\n",
    "               \"\\n \\t Noise level:\" + str(self.noise_level))\n",
    "    \n",
    "\n",
    "    \n",
    "class Body:\n",
    "    \n",
    "    def __init__(self,size):\n",
    "        self.size=size\n",
    "        \n",
    "    def __str__(self):\n",
    "        return (\"Body:\\n \\t size\" + self.size)\n",
    "    \n",
    "\n",
    "\n",
    "    \n",
    "class Car:\n",
    "    \n",
    "    def __init__(self,tyres,engine,body):\n",
    "        \n",
    "        self.tyres=tyres\n",
    "        self.engine=engine\n",
    "        self.body=body\n",
    "        \n",
    "    def __str__(self):\n",
    "        return (str(self.tyres) + \"\\n\" + str(self.engine) + \"\\n\" + str(self.body))"
   ]
  },
  {
   "cell_type": "code",
   "execution_count": 87,
   "id": "83276ee6",
   "metadata": {},
   "outputs": [],
   "source": [
    "t=Tyres(\"Patna\",True,30)\n",
    "e=Engine('Diesel',20)\n",
    "b=Body(\"Medium\")"
   ]
  },
  {
   "cell_type": "code",
   "execution_count": 88,
   "id": "5738594c",
   "metadata": {},
   "outputs": [
    {
     "name": "stdout",
     "output_type": "stream",
     "text": [
      "Tyres: \n",
      " \tBranchPatna\n",
      " \t Belted-biasTrue\n",
      " \t optimal pressure30\n",
      "Engine: \n",
      " \tFuel typeDiesel\n",
      " \t Noise level:20\n",
      "Body:\n",
      " \t sizeMedium\n"
     ]
    }
   ],
   "source": [
    "c=Car(t,e,b)\n",
    "print(c)"
   ]
  },
  {
   "cell_type": "code",
   "execution_count": 89,
   "id": "60709575",
   "metadata": {},
   "outputs": [
    {
     "name": "stdout",
     "output_type": "stream",
     "text": [
      "Tyres: \n",
      " \tBranchPatna\n",
      " \t Belted-biasTrue\n",
      " \t optimal pressure30\n"
     ]
    }
   ],
   "source": [
    "print(t)"
   ]
  },
  {
   "cell_type": "code",
   "execution_count": 90,
   "id": "36cbb51d",
   "metadata": {},
   "outputs": [
    {
     "data": {
      "text/plain": [
       "True"
      ]
     },
     "execution_count": 90,
     "metadata": {},
     "output_type": "execute_result"
    }
   ],
   "source": [
    "t.belted_bias"
   ]
  },
  {
   "cell_type": "code",
   "execution_count": null,
   "id": "169fe679",
   "metadata": {},
   "outputs": [],
   "source": []
  }
 ],
 "metadata": {
  "kernelspec": {
   "display_name": "Python 3 (ipykernel)",
   "language": "python",
   "name": "python3"
  },
  "language_info": {
   "codemirror_mode": {
    "name": "ipython",
    "version": 3
   },
   "file_extension": ".py",
   "mimetype": "text/x-python",
   "name": "python",
   "nbconvert_exporter": "python",
   "pygments_lexer": "ipython3",
   "version": "3.9.12"
  }
 },
 "nbformat": 4,
 "nbformat_minor": 5
}
