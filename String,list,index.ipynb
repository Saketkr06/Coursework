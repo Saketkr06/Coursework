{
 "cells": [
  {
   "cell_type": "code",
   "execution_count": 1,
   "id": "781a5db3",
   "metadata": {},
   "outputs": [],
   "source": [
    "a=\"6.56\""
   ]
  },
  {
   "cell_type": "code",
   "execution_count": 2,
   "id": "43c34883",
   "metadata": {},
   "outputs": [
    {
     "data": {
      "text/plain": [
       "'6.56'"
      ]
     },
     "execution_count": 2,
     "metadata": {},
     "output_type": "execute_result"
    }
   ],
   "source": [
    "a"
   ]
  },
  {
   "cell_type": "code",
   "execution_count": 3,
   "id": "d6d9cfc6",
   "metadata": {},
   "outputs": [
    {
     "data": {
      "text/plain": [
       "6.56"
      ]
     },
     "execution_count": 3,
     "metadata": {},
     "output_type": "execute_result"
    }
   ],
   "source": [
    "float(a)"
   ]
  },
  {
   "cell_type": "code",
   "execution_count": 4,
   "id": "208483b6",
   "metadata": {},
   "outputs": [],
   "source": [
    "#in case of individual index it will give an erroe,while not in case of range"
   ]
  },
  {
   "cell_type": "code",
   "execution_count": 5,
   "id": "38deb180",
   "metadata": {},
   "outputs": [],
   "source": [
    "b=\"ineuron\""
   ]
  },
  {
   "cell_type": "code",
   "execution_count": 10,
   "id": "37de5855",
   "metadata": {},
   "outputs": [
    {
     "data": {
      "text/plain": [
       "'iern'"
      ]
     },
     "execution_count": 10,
     "metadata": {},
     "output_type": "execute_result"
    }
   ],
   "source": [
    "b[0:300:2]"
   ]
  },
  {
   "cell_type": "code",
   "execution_count": 7,
   "id": "b75ed782",
   "metadata": {},
   "outputs": [
    {
     "data": {
      "text/plain": [
       "'n'"
      ]
     },
     "execution_count": 7,
     "metadata": {},
     "output_type": "execute_result"
    }
   ],
   "source": [
    "b[-1]"
   ]
  },
  {
   "cell_type": "code",
   "execution_count": 8,
   "id": "a3485a07",
   "metadata": {},
   "outputs": [
    {
     "data": {
      "text/plain": [
       "''"
      ]
     },
     "execution_count": 8,
     "metadata": {},
     "output_type": "execute_result"
    }
   ],
   "source": [
    "b[-1:-4]#why no data? because"
   ]
  },
  {
   "cell_type": "code",
   "execution_count": 11,
   "id": "2f0b94a2",
   "metadata": {},
   "outputs": [
    {
     "data": {
      "text/plain": [
       "'norueni'"
      ]
     },
     "execution_count": 11,
     "metadata": {},
     "output_type": "execute_result"
    }
   ],
   "source": [
    "b[::-1]"
   ]
  },
  {
   "cell_type": "code",
   "execution_count": 15,
   "id": "95a454ab",
   "metadata": {},
   "outputs": [
    {
     "data": {
      "text/plain": [
       "'nor'"
      ]
     },
     "execution_count": 15,
     "metadata": {},
     "output_type": "execute_result"
    }
   ],
   "source": [
    "b[-1:-4:-1]"
   ]
  },
  {
   "cell_type": "code",
   "execution_count": 17,
   "id": "02e46edb",
   "metadata": {},
   "outputs": [],
   "source": [
    "a=\"I am studying in iisc\""
   ]
  },
  {
   "cell_type": "code",
   "execution_count": 19,
   "id": "4f9769fe",
   "metadata": {},
   "outputs": [
    {
     "data": {
      "text/plain": [
       "' ni gniydut'"
      ]
     },
     "execution_count": 19,
     "metadata": {},
     "output_type": "execute_result"
    }
   ],
   "source": [
    "a[-5:5:-1]"
   ]
  },
  {
   "cell_type": "code",
   "execution_count": 20,
   "id": "ddb3b6f8",
   "metadata": {},
   "outputs": [],
   "source": [
    "#check the scale always......step and moving direction should be the same."
   ]
  },
  {
   "cell_type": "code",
   "execution_count": 21,
   "id": "f8625f66",
   "metadata": {},
   "outputs": [
    {
     "data": {
      "text/plain": [
       "'sudhsudhsudh'"
      ]
     },
     "execution_count": 21,
     "metadata": {},
     "output_type": "execute_result"
    }
   ],
   "source": [
    "\"sudh\"*3"
   ]
  },
  {
   "cell_type": "code",
   "execution_count": 22,
   "id": "a78bd3b0",
   "metadata": {},
   "outputs": [
    {
     "data": {
      "text/plain": [
       "21"
      ]
     },
     "execution_count": 22,
     "metadata": {},
     "output_type": "execute_result"
    }
   ],
   "source": [
    "len(a)"
   ]
  },
  {
   "cell_type": "code",
   "execution_count": 24,
   "id": "43d19182",
   "metadata": {},
   "outputs": [
    {
     "data": {
      "text/plain": [
       "17"
      ]
     },
     "execution_count": 24,
     "metadata": {},
     "output_type": "execute_result"
    }
   ],
   "source": [
    "a.find('ii')"
   ]
  },
  {
   "cell_type": "code",
   "execution_count": 25,
   "id": "eb856cbe",
   "metadata": {},
   "outputs": [
    {
     "data": {
      "text/plain": [
       "4"
      ]
     },
     "execution_count": 25,
     "metadata": {},
     "output_type": "execute_result"
    }
   ],
   "source": [
    "a.count(\"i\")"
   ]
  },
  {
   "cell_type": "code",
   "execution_count": 26,
   "id": "1ee9dd51",
   "metadata": {},
   "outputs": [
    {
     "data": {
      "text/plain": [
       "'I am studying in iisc'"
      ]
     },
     "execution_count": 26,
     "metadata": {},
     "output_type": "execute_result"
    }
   ],
   "source": [
    "a"
   ]
  },
  {
   "cell_type": "code",
   "execution_count": 33,
   "id": "a1befdd1",
   "metadata": {},
   "outputs": [],
   "source": [
    "b=a.split(\" \")"
   ]
  },
  {
   "cell_type": "code",
   "execution_count": 34,
   "id": "deceb681",
   "metadata": {},
   "outputs": [
    {
     "data": {
      "text/plain": [
       "['I', 'am', 'studying']"
      ]
     },
     "execution_count": 34,
     "metadata": {},
     "output_type": "execute_result"
    }
   ],
   "source": [
    "b[0:3]"
   ]
  },
  {
   "cell_type": "code",
   "execution_count": 36,
   "id": "03895512",
   "metadata": {},
   "outputs": [
    {
     "data": {
      "text/plain": [
       "'I AM STUDYING IN IISC'"
      ]
     },
     "execution_count": 36,
     "metadata": {},
     "output_type": "execute_result"
    }
   ],
   "source": [
    "a.upper()"
   ]
  },
  {
   "cell_type": "code",
   "execution_count": 37,
   "id": "c363cbfb",
   "metadata": {},
   "outputs": [
    {
     "data": {
      "text/plain": [
       "'i AM STUDYING IN IISC'"
      ]
     },
     "execution_count": 37,
     "metadata": {},
     "output_type": "execute_result"
    }
   ],
   "source": [
    "a.swapcase()"
   ]
  },
  {
   "cell_type": "code",
   "execution_count": 38,
   "id": "87b88f72",
   "metadata": {},
   "outputs": [
    {
     "data": {
      "text/plain": [
       "'I   a m   s t u d y i n g   i n   i i s c'"
      ]
     },
     "execution_count": 38,
     "metadata": {},
     "output_type": "execute_result"
    }
   ],
   "source": [
    "\" \".join(a)"
   ]
  },
  {
   "cell_type": "code",
   "execution_count": 41,
   "id": "5805ac35",
   "metadata": {},
   "outputs": [
    {
     "name": "stdout",
     "output_type": "stream",
     "text": [
      "c\n",
      "s\n",
      "i\n",
      "i\n",
      " \n",
      "n\n",
      "i\n",
      " \n",
      "g\n",
      "n\n",
      "i\n",
      "y\n",
      "d\n",
      "u\n",
      "t\n",
      "s\n",
      " \n",
      "m\n",
      "a\n",
      " \n",
      "I\n"
     ]
    }
   ],
   "source": [
    "for i in reversed(a):\n",
    "    print(i)"
   ]
  },
  {
   "cell_type": "code",
   "execution_count": 42,
   "id": "5727e509",
   "metadata": {},
   "outputs": [
    {
     "data": {
      "text/plain": [
       "'I am studying in iisc'"
      ]
     },
     "execution_count": 42,
     "metadata": {},
     "output_type": "execute_result"
    }
   ],
   "source": [
    "a.rstrip()"
   ]
  },
  {
   "cell_type": "code",
   "execution_count": 43,
   "id": "93a05112",
   "metadata": {},
   "outputs": [
    {
     "data": {
      "text/plain": [
       "'I am studyung un uusc'"
      ]
     },
     "execution_count": 43,
     "metadata": {},
     "output_type": "execute_result"
    }
   ],
   "source": [
    "a.replace(\"i\",\"u\")"
   ]
  },
  {
   "cell_type": "code",
   "execution_count": 44,
   "id": "fd0176c3",
   "metadata": {},
   "outputs": [
    {
     "data": {
      "text/plain": [
       "False"
      ]
     },
     "execution_count": 44,
     "metadata": {},
     "output_type": "execute_result"
    }
   ],
   "source": [
    "a.isupper()"
   ]
  },
  {
   "cell_type": "code",
   "execution_count": 46,
   "id": "44234ba9",
   "metadata": {},
   "outputs": [
    {
     "data": {
      "text/plain": [
       "False"
      ]
     },
     "execution_count": 46,
     "metadata": {},
     "output_type": "execute_result"
    }
   ],
   "source": [
    "a.endswith(\"i\")"
   ]
  },
  {
   "cell_type": "code",
   "execution_count": 47,
   "id": "e89ae219",
   "metadata": {},
   "outputs": [
    {
     "data": {
      "text/plain": [
       "True"
      ]
     },
     "execution_count": 47,
     "metadata": {},
     "output_type": "execute_result"
    }
   ],
   "source": [
    "a.startswith(\"I\")"
   ]
  },
  {
   "cell_type": "code",
   "execution_count": 48,
   "id": "ba93ee79",
   "metadata": {},
   "outputs": [
    {
     "data": {
      "text/plain": [
       "b'I am studying in iisc'"
      ]
     },
     "execution_count": 48,
     "metadata": {},
     "output_type": "execute_result"
    }
   ],
   "source": [
    "a.encode()"
   ]
  },
  {
   "cell_type": "code",
   "execution_count": 49,
   "id": "b6eac1dd",
   "metadata": {},
   "outputs": [],
   "source": [
    "#list is an collection of homo or hetero data"
   ]
  },
  {
   "cell_type": "code",
   "execution_count": null,
   "id": "4096506d",
   "metadata": {},
   "outputs": [],
   "source": [
    "l"
   ]
  }
 ],
 "metadata": {
  "kernelspec": {
   "display_name": "Python 3 (ipykernel)",
   "language": "python",
   "name": "python3"
  },
  "language_info": {
   "codemirror_mode": {
    "name": "ipython",
    "version": 3
   },
   "file_extension": ".py",
   "mimetype": "text/x-python",
   "name": "python",
   "nbconvert_exporter": "python",
   "pygments_lexer": "ipython3",
   "version": "3.9.12"
  }
 },
 "nbformat": 4,
 "nbformat_minor": 5
}
