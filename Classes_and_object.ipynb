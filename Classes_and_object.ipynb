{
  "cells": [
    {
      "cell_type": "markdown",
      "metadata": {
        "id": "view-in-github",
        "colab_type": "text"
      },
      "source": [
        "<a href=\"https://colab.research.google.com/github/Saketkr06/Libraries/blob/main/Classes_and_object.ipynb\" target=\"_parent\"><img src=\"https://colab.research.google.com/assets/colab-badge.svg\" alt=\"Open In Colab\"/></a>"
      ]
    },
    {
      "cell_type": "code",
      "execution_count": null,
      "id": "49496d5a",
      "metadata": {
        "id": "49496d5a"
      },
      "outputs": [],
      "source": [
        "#class is a blue print or a code template for object creation.\n",
        "#object: is an instance of a class\n",
        "#attributes is properties associated with object/instance variable\n",
        "#functionality of object is methods/function()"
      ]
    },
    {
      "cell_type": "code",
      "execution_count": null,
      "id": "d1783c42",
      "metadata": {
        "id": "d1783c42"
      },
      "outputs": [],
      "source": [
        "class Emp:\n",
        "    pass"
      ]
    },
    {
      "cell_type": "code",
      "execution_count": null,
      "id": "3b7726ed",
      "metadata": {
        "id": "3b7726ed",
        "outputId": "f56acdd2-f09a-42bb-801a-dc6051dc09fd"
      },
      "outputs": [
        {
          "name": "stdout",
          "output_type": "stream",
          "text": [
            "<class '__main__.Emp'>\n"
          ]
        }
      ],
      "source": [
        "e=Emp()#creating abject name of class\n",
        "print(type(e))"
      ]
    },
    {
      "cell_type": "code",
      "execution_count": null,
      "id": "3315b617",
      "metadata": {
        "id": "3315b617",
        "outputId": "7ddeb606-87b4-446d-f92b-365eccf50012"
      },
      "outputs": [
        {
          "data": {
            "text/plain": [
              "2163517063232"
            ]
          },
          "execution_count": 4,
          "metadata": {},
          "output_type": "execute_result"
        }
      ],
      "source": [
        "id(e)"
      ]
    },
    {
      "cell_type": "code",
      "execution_count": null,
      "id": "59a5ce7f",
      "metadata": {
        "id": "59a5ce7f"
      },
      "outputs": [],
      "source": [
        "class Robot:\n",
        "    def introduce_self(self):\n",
        "        print(\"My name is \" + self.name)"
      ]
    },
    {
      "cell_type": "code",
      "execution_count": null,
      "id": "e60f21b8",
      "metadata": {
        "id": "e60f21b8"
      },
      "outputs": [],
      "source": [
        "r1=Robot()"
      ]
    },
    {
      "cell_type": "code",
      "execution_count": null,
      "id": "2206d7bf",
      "metadata": {
        "id": "2206d7bf"
      },
      "outputs": [],
      "source": [
        "r1.name=\"abc\""
      ]
    },
    {
      "cell_type": "code",
      "execution_count": null,
      "id": "0c567397",
      "metadata": {
        "id": "0c567397",
        "outputId": "9e770677-58ae-4702-dd02-507387b22c22"
      },
      "outputs": [
        {
          "name": "stdout",
          "output_type": "stream",
          "text": [
            "My name is abc\n"
          ]
        }
      ],
      "source": [
        "r1.introduce_self()"
      ]
    },
    {
      "cell_type": "code",
      "execution_count": null,
      "id": "889fc342",
      "metadata": {
        "id": "889fc342"
      },
      "outputs": [],
      "source": [
        "r2=Robot()"
      ]
    },
    {
      "cell_type": "code",
      "execution_count": null,
      "id": "4876d24d",
      "metadata": {
        "id": "4876d24d",
        "outputId": "6b246631-6820-420e-e9a9-77ac1e51d7b3"
      },
      "outputs": [
        {
          "data": {
            "text/plain": [
              "<__main__.Robot at 0x1f7bbde9bb0>"
            ]
          },
          "execution_count": 14,
          "metadata": {},
          "output_type": "execute_result"
        }
      ],
      "source": [
        "r2"
      ]
    },
    {
      "cell_type": "code",
      "execution_count": null,
      "id": "4bdebcbb",
      "metadata": {
        "id": "4bdebcbb"
      },
      "outputs": [],
      "source": [
        "r2.name='xyz'"
      ]
    },
    {
      "cell_type": "code",
      "execution_count": null,
      "id": "983e34b0",
      "metadata": {
        "id": "983e34b0",
        "outputId": "970ee683-288c-4c55-f36d-d24effb2e02b"
      },
      "outputs": [
        {
          "data": {
            "text/plain": [
              "<__main__.Robot at 0x1f7bbde9bb0>"
            ]
          },
          "execution_count": 16,
          "metadata": {},
          "output_type": "execute_result"
        }
      ],
      "source": [
        "r2"
      ]
    },
    {
      "cell_type": "code",
      "execution_count": null,
      "id": "48dfeda3",
      "metadata": {
        "id": "48dfeda3",
        "outputId": "eabd03ab-1fb4-4c26-97f7-6eb8d00a5bdc"
      },
      "outputs": [
        {
          "name": "stdout",
          "output_type": "stream",
          "text": [
            "My name is xyz\n"
          ]
        }
      ],
      "source": [
        "r2.introduce_self()"
      ]
    },
    {
      "cell_type": "code",
      "execution_count": null,
      "id": "ae67bc1d",
      "metadata": {
        "id": "ae67bc1d"
      },
      "outputs": [],
      "source": [
        "class Robot:\n",
        "    def __init__(self,name,color,weight):#special methods\n",
        "        self.name=name\n",
        "        self.color=color\n",
        "        self.weight=weight\n",
        "    \n",
        "    def introduce_self(self):\n",
        "        print(\"My name is \" + self.name)\n",
        "    \n",
        "    "
      ]
    },
    {
      "cell_type": "code",
      "execution_count": null,
      "id": "a261ec59",
      "metadata": {
        "id": "a261ec59"
      },
      "outputs": [],
      "source": [
        "r1=Robot(\"abc\",\"red\",30)"
      ]
    },
    {
      "cell_type": "code",
      "execution_count": null,
      "id": "fb2f459f",
      "metadata": {
        "id": "fb2f459f"
      },
      "outputs": [],
      "source": [
        "r2=Robot(\"xyz\",'blue',40)"
      ]
    },
    {
      "cell_type": "code",
      "execution_count": null,
      "id": "520bed17",
      "metadata": {
        "id": "520bed17",
        "outputId": "abe191c9-5b81-434a-961c-62e1907e4432"
      },
      "outputs": [
        {
          "name": "stdout",
          "output_type": "stream",
          "text": [
            "My name is abc\n"
          ]
        }
      ],
      "source": [
        "r1.introduce_self()"
      ]
    },
    {
      "cell_type": "code",
      "execution_count": null,
      "id": "1f899e09",
      "metadata": {
        "id": "1f899e09",
        "outputId": "5266219e-0d79-4931-d5f7-a382b486b3b9"
      },
      "outputs": [
        {
          "name": "stdout",
          "output_type": "stream",
          "text": [
            "My name is xyz\n"
          ]
        }
      ],
      "source": [
        "r2.introduce_self()"
      ]
    },
    {
      "cell_type": "code",
      "execution_count": null,
      "id": "f1a63c77",
      "metadata": {
        "id": "f1a63c77",
        "outputId": "4ac505f2-60bd-4206-d6f3-cf792e1251a4"
      },
      "outputs": [
        {
          "data": {
            "text/plain": [
              "'red'"
            ]
          },
          "execution_count": 28,
          "metadata": {},
          "output_type": "execute_result"
        }
      ],
      "source": [
        "r1.color"
      ]
    },
    {
      "cell_type": "code",
      "execution_count": null,
      "id": "b032982a",
      "metadata": {
        "id": "b032982a",
        "outputId": "fe245f47-593f-4e37-88de-bdc50365adc2"
      },
      "outputs": [
        {
          "data": {
            "text/plain": [
              "30"
            ]
          },
          "execution_count": 29,
          "metadata": {},
          "output_type": "execute_result"
        }
      ],
      "source": [
        "r1.weight"
      ]
    },
    {
      "cell_type": "code",
      "execution_count": null,
      "id": "fe37d846",
      "metadata": {
        "id": "fe37d846"
      },
      "outputs": [],
      "source": [
        "#methods use with braces and properties is not with braces"
      ]
    },
    {
      "cell_type": "code",
      "execution_count": null,
      "id": "8564d600",
      "metadata": {
        "id": "8564d600"
      },
      "outputs": [],
      "source": [
        "class Person:\n",
        "    def __init__(self,name,gender,profession):\n",
        "        self.name=name\n",
        "        self.gender=gender\n",
        "        self.profession=profession\n",
        "    def show(self):\n",
        "        print(\"name\",self.name,'gender',self.gender,\"Profession\",self.profession)\n",
        "    def work(self):\n",
        "        print(self.name,\"working as a\", self.profession)"
      ]
    },
    {
      "cell_type": "code",
      "execution_count": null,
      "id": "b75197f3",
      "metadata": {
        "id": "b75197f3"
      },
      "outputs": [],
      "source": [
        "o1=Person(\"saket\",\"Male\",\"Engineer\")"
      ]
    },
    {
      "cell_type": "code",
      "execution_count": null,
      "id": "a669dc6b",
      "metadata": {
        "id": "a669dc6b",
        "outputId": "332dce50-6659-4541-94e6-ee66ecae716e"
      },
      "outputs": [
        {
          "name": "stdout",
          "output_type": "stream",
          "text": [
            "name saket gender Male Profession Engineer\n"
          ]
        }
      ],
      "source": [
        "o1.show()"
      ]
    },
    {
      "cell_type": "code",
      "execution_count": null,
      "id": "e5af520e",
      "metadata": {
        "id": "e5af520e",
        "outputId": "a1ba6f4b-90fd-4a6d-dacc-2d1853809640"
      },
      "outputs": [
        {
          "data": {
            "text/plain": [
              "'Engineer'"
            ]
          },
          "execution_count": 34,
          "metadata": {},
          "output_type": "execute_result"
        }
      ],
      "source": [
        "o1.profession"
      ]
    },
    {
      "cell_type": "code",
      "execution_count": null,
      "id": "fc6ebf70",
      "metadata": {
        "id": "fc6ebf70",
        "outputId": "f208d04e-b4a8-41c9-acff-dc59abb106c4"
      },
      "outputs": [
        {
          "name": "stdout",
          "output_type": "stream",
          "text": [
            "saket working as a Engineer\n"
          ]
        }
      ],
      "source": [
        "o1.work()"
      ]
    },
    {
      "cell_type": "code",
      "execution_count": null,
      "id": "1163fd6d",
      "metadata": {
        "id": "1163fd6d"
      },
      "outputs": [],
      "source": [
        "class Emp:\n",
        "    def __init__(self):\n",
        "        print(id(self))\n",
        "        self.age=25\n",
        "        self.name=\"saket\"\n",
        "        self.salary=30000"
      ]
    },
    {
      "cell_type": "code",
      "execution_count": null,
      "id": "9a2e0a4d",
      "metadata": {
        "id": "9a2e0a4d",
        "outputId": "8b68055d-c22e-4c79-a32c-566f42ab0aa8"
      },
      "outputs": [
        {
          "name": "stdout",
          "output_type": "stream",
          "text": [
            "2163554460144\n"
          ]
        }
      ],
      "source": [
        "e1=Emp()"
      ]
    },
    {
      "cell_type": "code",
      "execution_count": null,
      "id": "3a5b572b",
      "metadata": {
        "id": "3a5b572b",
        "outputId": "f93375d8-425b-42ea-9221-3c3017e4ff06"
      },
      "outputs": [
        {
          "data": {
            "text/plain": [
              "25"
            ]
          },
          "execution_count": 38,
          "metadata": {},
          "output_type": "execute_result"
        }
      ],
      "source": [
        "e1.age"
      ]
    },
    {
      "cell_type": "code",
      "execution_count": null,
      "id": "9ffbdb5d",
      "metadata": {
        "id": "9ffbdb5d"
      },
      "outputs": [],
      "source": [
        "e1.weight=34"
      ]
    },
    {
      "cell_type": "code",
      "execution_count": null,
      "id": "22103c11",
      "metadata": {
        "id": "22103c11",
        "outputId": "938ded8b-2225-4b29-ec87-b857cc8d88d0"
      },
      "outputs": [
        {
          "data": {
            "text/plain": [
              "34"
            ]
          },
          "execution_count": 40,
          "metadata": {},
          "output_type": "execute_result"
        }
      ],
      "source": [
        "e1.weight"
      ]
    },
    {
      "cell_type": "code",
      "execution_count": null,
      "id": "d29cbe00",
      "metadata": {
        "id": "d29cbe00"
      },
      "outputs": [],
      "source": [
        "class Circle:\n",
        "    def __init__(self,r,pi):\n",
        "        self.r=r\n",
        "        self.pi=pi\n",
        "    def area(self):\n",
        "        print(\"area of circle is \",self.pi*self.r*self.r)\n",
        "    def circumference(self):\n",
        "        print(\"circumference of circle is \",2*self.pi*self.r)"
      ]
    },
    {
      "cell_type": "code",
      "execution_count": null,
      "id": "64011b36",
      "metadata": {
        "id": "64011b36"
      },
      "outputs": [],
      "source": [
        "a1=Circle(4,3.14)"
      ]
    },
    {
      "cell_type": "code",
      "execution_count": null,
      "id": "603be19d",
      "metadata": {
        "id": "603be19d",
        "outputId": "fc3e2c58-9dfd-4d20-a7a8-8c4576be56fd"
      },
      "outputs": [
        {
          "name": "stdout",
          "output_type": "stream",
          "text": [
            "area of circle is  50.24\n"
          ]
        }
      ],
      "source": [
        "a1.area()"
      ]
    },
    {
      "cell_type": "code",
      "execution_count": null,
      "id": "91b3270d",
      "metadata": {
        "id": "91b3270d",
        "outputId": "d9c802c3-f886-4bfb-e673-ec9272ac7d9d"
      },
      "outputs": [
        {
          "name": "stdout",
          "output_type": "stream",
          "text": [
            "circumference of circle is  25.12\n"
          ]
        }
      ],
      "source": [
        "a1.circumference()"
      ]
    },
    {
      "cell_type": "code",
      "execution_count": null,
      "id": "b37c17c0",
      "metadata": {
        "id": "b37c17c0"
      },
      "outputs": [],
      "source": [
        "class BankAccount:\n",
        "    def __init__(self,an,name,balance):\n",
        "        self.an=an\n",
        "        self.name=name\n",
        "        self.balance=balance\n",
        "    def deposit(self,amt):\n",
        "        self.amt=amt\n",
        "    def withdraw(self,drawn):\n",
        "        self.drawn=drawn\n",
        "        \n",
        "    def display(self):\n",
        "        print(self.balance+self.amt-self.drawn)"
      ]
    },
    {
      "cell_type": "code",
      "execution_count": null,
      "id": "e83ffe12",
      "metadata": {
        "id": "e83ffe12"
      },
      "outputs": [],
      "source": [
        "w=BankAccount(101123,\"saket\",2500)"
      ]
    },
    {
      "cell_type": "code",
      "execution_count": null,
      "id": "9c902075",
      "metadata": {
        "id": "9c902075"
      },
      "outputs": [],
      "source": [
        "w.deposit(1000)"
      ]
    },
    {
      "cell_type": "code",
      "execution_count": null,
      "id": "0bebe45c",
      "metadata": {
        "id": "0bebe45c"
      },
      "outputs": [],
      "source": [
        "w.withdraw(300)"
      ]
    },
    {
      "cell_type": "code",
      "execution_count": null,
      "id": "5d5ed617",
      "metadata": {
        "id": "5d5ed617",
        "outputId": "017622d9-aa00-48aa-a605-05c5ace2e462"
      },
      "outputs": [
        {
          "name": "stdout",
          "output_type": "stream",
          "text": [
            "3200\n"
          ]
        }
      ],
      "source": [
        "w.display()"
      ]
    },
    {
      "cell_type": "code",
      "execution_count": null,
      "id": "1b08c3aa",
      "metadata": {
        "id": "1b08c3aa"
      },
      "outputs": [],
      "source": [
        "class BankAccount:\n",
        "    def __init__(self,name,amount,interest_rate):\n",
        "        self.name=name\n",
        "        self.amount=amount\n",
        "        self.interest_rate=interest_rate\n",
        "    def apply_interest(self):\n",
        "        self.amount=self.amount+self.amount*self.interest_rate/100\n",
        "    def display_amt(self):\n",
        "        print(\"Your balance is\",self.amount)"
      ]
    },
    {
      "cell_type": "code",
      "execution_count": null,
      "id": "2e12a039",
      "metadata": {
        "id": "2e12a039"
      },
      "outputs": [],
      "source": [
        "a=BankAccount(\"Juan\",1000,3)"
      ]
    },
    {
      "cell_type": "code",
      "execution_count": null,
      "id": "6e329ef6",
      "metadata": {
        "id": "6e329ef6"
      },
      "outputs": [],
      "source": [
        "a.apply_interest()"
      ]
    },
    {
      "cell_type": "code",
      "execution_count": null,
      "id": "9edcc4ab",
      "metadata": {
        "id": "9edcc4ab",
        "outputId": "58d16503-0704-4b3a-fc16-5c202018f422"
      },
      "outputs": [
        {
          "name": "stdout",
          "output_type": "stream",
          "text": [
            "Your balance is 1030.0\n"
          ]
        }
      ],
      "source": [
        "a.display_amt()"
      ]
    },
    {
      "cell_type": "code",
      "execution_count": null,
      "id": "c5960263",
      "metadata": {
        "id": "c5960263"
      },
      "outputs": [],
      "source": [
        "a=BankAccount(\"Juan\",1000,2)"
      ]
    },
    {
      "cell_type": "code",
      "execution_count": null,
      "id": "2c5bc429",
      "metadata": {
        "id": "2c5bc429"
      },
      "outputs": [],
      "source": [
        "a.apply_interest()"
      ]
    },
    {
      "cell_type": "code",
      "execution_count": null,
      "id": "fa1da34b",
      "metadata": {
        "id": "fa1da34b",
        "outputId": "3cdbc4b3-4889-459b-a8c0-2505e9b731c6"
      },
      "outputs": [
        {
          "name": "stdout",
          "output_type": "stream",
          "text": [
            "Your balance is 1020.0\n"
          ]
        }
      ],
      "source": [
        "a.display_amt()"
      ]
    },
    {
      "cell_type": "code",
      "execution_count": null,
      "id": "30dfa881",
      "metadata": {
        "id": "30dfa881"
      },
      "outputs": [],
      "source": [
        "class Item:\n",
        "    def __init__(self,name,price):\n",
        "        self.name=name\n",
        "        self.price=round(price,2)\n",
        "    def __str__(self):\n",
        "        return f\"item name {self.name}, its price is {self.price}\""
      ]
    },
    {
      "cell_type": "code",
      "execution_count": null,
      "id": "5e3ffd3a",
      "metadata": {
        "id": "5e3ffd3a"
      },
      "outputs": [],
      "source": [
        "b=Item(\"Soap\",19.4578)"
      ]
    },
    {
      "cell_type": "code",
      "execution_count": null,
      "id": "a52c458c",
      "metadata": {
        "id": "a52c458c",
        "outputId": "2f510b33-e761-4621-ea75-1826a5a0b612"
      },
      "outputs": [
        {
          "name": "stdout",
          "output_type": "stream",
          "text": [
            "item name Soap, its price is 19.46\n"
          ]
        }
      ],
      "source": [
        "print(b)"
      ]
    },
    {
      "cell_type": "code",
      "execution_count": null,
      "id": "3c29aaea",
      "metadata": {
        "id": "3c29aaea"
      },
      "outputs": [],
      "source": [
        "class Item:\n",
        "    def __init__(self,name,price):\n",
        "        self.name=name\n",
        "        self.price=price\n",
        "    def __str__(self):\n",
        "        return f\"{self.name},{self.price}\"\n",
        "class ShoppingCart:\n",
        "    def __init__(self):\n",
        "        self.items=[]\n",
        "    def add(self,name,price):\n",
        "        self.items.append(Item(name,price))\n",
        "    def total(self):\n",
        "        total_price=0\n",
        "        for item in self.items:\n",
        "            total_price +=item.price\n",
        "        return total_price\n",
        "    def remove(self,name):\n",
        "        self.items=[item for item in self.items if item.name != name]\n",
        "    def __str__(self):\n",
        "        return \" \\n\".join([str(item) for item in self.items])\n",
        "        \n",
        "    \n",
        "    \n",
        "    "
      ]
    },
    {
      "cell_type": "code",
      "execution_count": null,
      "id": "fd14059b",
      "metadata": {
        "id": "fd14059b"
      },
      "outputs": [],
      "source": [
        "c=ShoppingCart()"
      ]
    },
    {
      "cell_type": "code",
      "execution_count": null,
      "id": "8213dc55",
      "metadata": {
        "id": "8213dc55"
      },
      "outputs": [],
      "source": [
        "c.add(\"soap\",20)"
      ]
    },
    {
      "cell_type": "code",
      "execution_count": null,
      "id": "e55e306e",
      "metadata": {
        "id": "e55e306e"
      },
      "outputs": [],
      "source": [
        "c.add(\"laptop\",2012)"
      ]
    },
    {
      "cell_type": "code",
      "execution_count": null,
      "id": "00575c01",
      "metadata": {
        "id": "00575c01"
      },
      "outputs": [],
      "source": [
        "c.add(\"keyboard\",560)"
      ]
    },
    {
      "cell_type": "code",
      "execution_count": null,
      "id": "bff0b4cc",
      "metadata": {
        "id": "bff0b4cc",
        "outputId": "beae2b78-fe21-444e-fd03-b0c2632f959d"
      },
      "outputs": [
        {
          "name": "stdout",
          "output_type": "stream",
          "text": [
            "2592\n"
          ]
        }
      ],
      "source": [
        "print(c.total())"
      ]
    },
    {
      "cell_type": "code",
      "execution_count": null,
      "id": "7f9323f0",
      "metadata": {
        "id": "7f9323f0"
      },
      "outputs": [],
      "source": [
        "c.remove(\"soap\")"
      ]
    },
    {
      "cell_type": "code",
      "execution_count": null,
      "id": "87a0cc9f",
      "metadata": {
        "id": "87a0cc9f",
        "outputId": "550d1304-4ccb-449e-c60c-9b9b1725c3a1"
      },
      "outputs": [
        {
          "name": "stdout",
          "output_type": "stream",
          "text": [
            "2572\n"
          ]
        }
      ],
      "source": [
        "print(c.total())"
      ]
    },
    {
      "cell_type": "code",
      "execution_count": null,
      "id": "c84cba73",
      "metadata": {
        "id": "c84cba73",
        "outputId": "35b7af3c-f24f-459e-be5e-340fe3364df8"
      },
      "outputs": [
        {
          "name": "stdout",
          "output_type": "stream",
          "text": [
            "\n"
          ]
        }
      ],
      "source": [
        "print(ShoppingCart())"
      ]
    },
    {
      "cell_type": "code",
      "execution_count": null,
      "id": "6f8cf574",
      "metadata": {
        "id": "6f8cf574",
        "outputId": "207f35bf-91f6-40b8-ddd4-7d54c7af44cf"
      },
      "outputs": [
        {
          "name": "stdout",
          "output_type": "stream",
          "text": [
            "laptop,2012 \n",
            "keyboard,560\n"
          ]
        }
      ],
      "source": [
        "print(c)"
      ]
    },
    {
      "cell_type": "code",
      "execution_count": null,
      "id": "4791aeac",
      "metadata": {
        "id": "4791aeac"
      },
      "outputs": [],
      "source": [
        "class RestaurantCheck:\n",
        "    def __init__(self,check_no,sales_tax_percent,subtotal,table_no,server_name):\n",
        "        self.check_no=check_no\n",
        "        self.sales_tax_percent=sales_tax_percent\n",
        "        self.subtotal=subtotal\n",
        "        self.table_no=table_no\n",
        "        self.server_name=server_name\n",
        "    def calculate_total(self):\n",
        "        total=0\n",
        "        total =total+self.subtotal+self.subtotal*self.sales_tax_percent/100\n",
        "    def __str__(self):\n",
        "        return f\"Check number :{self.check_no}\\n Sales tax :{self.sales_tax_percent}\\n subTotal :{self.subtotal}\\n total :{self.total}\\n Table no :{self.table_no}\\n server name :{self.server_name}\"\n",
        "        "
      ]
    },
    {
      "cell_type": "code",
      "execution_count": null,
      "id": "a18b9ee2",
      "metadata": {
        "id": "a18b9ee2"
      },
      "outputs": [],
      "source": [
        "e=RestaurantCheck(443,6,23.14,14,\"sonic\")"
      ]
    },
    {
      "cell_type": "code",
      "execution_count": null,
      "id": "96a0a754",
      "metadata": {
        "id": "96a0a754"
      },
      "outputs": [],
      "source": [
        "e.calculate_total()"
      ]
    },
    {
      "cell_type": "code",
      "execution_count": null,
      "id": "3244fb6d",
      "metadata": {
        "id": "3244fb6d"
      },
      "outputs": [],
      "source": [
        "class Ticket:\n",
        "    def __init__(self,cost,time):\n",
        "        self.cost=cost\n",
        "        self.time=time\n",
        "    def __str__(self):\n",
        "        return f\"{self.cost},{self.time}\"\n",
        "    def is_evening_time(self):\n",
        "        self.time=float(self.time)\n",
        "        if self.time>6 or self.time<11.59:\n",
        "            return \"True\"\n",
        "        else:\n",
        "            return \"False\"\n",
        "    def bulk_discount(self,n):\n",
        "        self.n=n\n",
        "        if 5<=n<=9:\n",
        "            discount=10\n",
        "            self.cost=self.n*self.cost-self.n*self.cost*discount/100\n",
        "        elif n>=10:\n",
        "            discount=20\n",
        "            self.cost=self.n*self.cost-self.n*self.cost*discount/100\n",
        "            "
      ]
    },
    {
      "cell_type": "code",
      "execution_count": null,
      "id": "41ddc09f",
      "metadata": {
        "id": "41ddc09f"
      },
      "outputs": [],
      "source": [
        "f=Ticket(20,5.56)"
      ]
    },
    {
      "cell_type": "code",
      "execution_count": null,
      "id": "d3d5ab31",
      "metadata": {
        "id": "d3d5ab31",
        "outputId": "bb9f04a7-2e48-4f9f-d398-f339feb6fab6"
      },
      "outputs": [
        {
          "data": {
            "text/plain": [
              "'True'"
            ]
          },
          "execution_count": 161,
          "metadata": {},
          "output_type": "execute_result"
        }
      ],
      "source": [
        "f.is_evening_time()"
      ]
    },
    {
      "cell_type": "code",
      "execution_count": null,
      "id": "fe0dec23",
      "metadata": {
        "id": "fe0dec23"
      },
      "outputs": [],
      "source": [
        "f.bulk_discount(8)"
      ]
    },
    {
      "cell_type": "code",
      "execution_count": null,
      "id": "53269193",
      "metadata": {
        "id": "53269193",
        "outputId": "360c752b-b6ab-497a-806b-43bff33d23bd"
      },
      "outputs": [
        {
          "name": "stdout",
          "output_type": "stream",
          "text": [
            "144.0,5.56\n"
          ]
        }
      ],
      "source": [
        "print(f)"
      ]
    },
    {
      "cell_type": "code",
      "execution_count": null,
      "id": "37ca9ba5",
      "metadata": {
        "id": "37ca9ba5"
      },
      "outputs": [],
      "source": []
    },
    {
      "cell_type": "code",
      "execution_count": null,
      "id": "981c8268",
      "metadata": {
        "id": "981c8268"
      },
      "outputs": [],
      "source": []
    },
    {
      "cell_type": "code",
      "execution_count": null,
      "id": "8cab581b",
      "metadata": {
        "id": "8cab581b"
      },
      "outputs": [],
      "source": []
    }
  ],
  "metadata": {
    "kernelspec": {
      "display_name": "Python 3 (ipykernel)",
      "language": "python",
      "name": "python3"
    },
    "language_info": {
      "codemirror_mode": {
        "name": "ipython",
        "version": 3
      },
      "file_extension": ".py",
      "mimetype": "text/x-python",
      "name": "python",
      "nbconvert_exporter": "python",
      "pygments_lexer": "ipython3",
      "version": "3.9.12"
    },
    "colab": {
      "provenance": [],
      "include_colab_link": true
    }
  },
  "nbformat": 4,
  "nbformat_minor": 5
}